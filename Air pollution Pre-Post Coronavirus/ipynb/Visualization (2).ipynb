{
 "cells": [
  {
   "cell_type": "code",
   "execution_count": 1,
   "metadata": {},
   "outputs": [],
   "source": [
    "import numpy as np\n",
    "import pandas as pd\n",
    "# Warnings\n",
    "import warnings\n",
    "warnings.filterwarnings('ignore')\n",
    "import math"
   ]
  },
  {
   "cell_type": "code",
   "execution_count": 2,
   "metadata": {},
   "outputs": [],
   "source": [
    "def avg_1(df,day,day_avg,col_name):\n",
    "    city_day_ahm_copy=df\n",
    "    city_day_ahm_copy=df.dropna(axis=0, how=\"all\", subset=[col_name])\n",
    "    count = 0\n",
    "    value = 0\n",
    "    four_day_avg = []\n",
    "    for i in range(len(list(city_day_ahm_copy['Day']))):\n",
    "        if day==(list(city_day_ahm_copy['Day']))[i]:\n",
    "            count = count + 1 \n",
    "            value = value + list(city_day_ahm_copy[col_name])[i]\n",
    "        if count==day_avg:\n",
    "            four_day_avg.append(value/day_avg)\n",
    "            count=0\n",
    "            value=0\n",
    "    return four_day_avg"
   ]
  },
  {
   "cell_type": "code",
   "execution_count": 3,
   "metadata": {},
   "outputs": [],
   "source": [
    "def replace_nan(df,pollut,day_avg):\n",
    "    for j in pollut:\n",
    "        try:\n",
    "            mon_avg = (avg_1(df,'Mon',day_avg,j))\n",
    "            mon_avg1 = sum(mon_avg)/len(mon_avg)\n",
    "            tue_avg = (avg_1(df,'Tue',day_avg,j))\n",
    "            tue_avg1 = sum(tue_avg)/len(tue_avg)\n",
    "            wed_avg = (avg_1(df,'Wed',day_avg,j))\n",
    "            wed_avg1 = sum(wed_avg)/len(wed_avg)\n",
    "            thurs_avg = (avg_1(df,'Thurs',day_avg,j))\n",
    "            thurs_avg1 = sum(thurs_avg)/len(thurs_avg)\n",
    "            fri_avg = (avg_1(df,'Fri',day_avg,j))\n",
    "            fri_avg1 = sum(fri_avg)/len(fri_avg)\n",
    "            sat_avg = (avg_1(df,'Sat',day_avg,j))\n",
    "            sat_avg1 = sum(sat_avg)/len(sat_avg)\n",
    "            sun_avg = (avg_1(df,'Sun',day_avg,j))\n",
    "            sun_avg1 = sum(sun_avg)/len(sun_avg)\n",
    "            city_day_ahm_copy = df\n",
    "            for i in range(len(list(city_day_ahm_copy[j]))):\n",
    "                if math.isnan(list(city_day_ahm_copy[j])[i]):\n",
    "                    if list(city_day_ahm_copy['Day'])[i]=='Mon':\n",
    "                        try:\n",
    "                            df[j][i] = mon_avg[int(i/day_avg)]\n",
    "                        except IndexError:\n",
    "                            df[j][i] = mon_avg1                    \n",
    "                    if list(city_day_ahm_copy['Day'])[i]=='Tue':\n",
    "                        try:\n",
    "                            df[j][i] = tue_avg[int(i/day_avg)]\n",
    "                        except IndexError:\n",
    "                            df[j][i] = tue_avg1                    \n",
    "                    if list(city_day_ahm_copy['Day'])[i]=='Wed':\n",
    "                        try:\n",
    "                            df[j][i] = wed_avg[int(i/day_avg)]\n",
    "                        except IndexError:\n",
    "                            df[j][i] = wed_avg1                    \n",
    "                    if list(city_day_ahm_copy['Day'])[i]=='Thurs':\n",
    "                        try:\n",
    "                            df[j][i] = thurs_avg[int(i/day_avg)]\n",
    "                        except IndexError:\n",
    "                            df[j][i] = thurs_avg1                    \n",
    "                    if list(city_day_ahm_copy['Day'])[i]=='Fri':\n",
    "                        try:\n",
    "                            df[j][i] = fri_avg[int(i/day_avg)]\n",
    "                        except IndexError:\n",
    "                            df[j][i] = fri_avg1                    \n",
    "                    if list(city_day_ahm_copy['Day'])[i]=='Sat':\n",
    "                        try:\n",
    "                            df[j][i] = sat_avg[int(i/day_avg)]\n",
    "                        except IndexError:\n",
    "                            df[j][i] = sat_avg1                    \n",
    "                    if list(city_day_ahm_copy['Day'])[i]=='Sun':\n",
    "                        try:\n",
    "                            df[j][i] = sun_avg[int(i/day_avg)]\n",
    "                        except IndexError:\n",
    "                            df[j][i] = sun_avg1  \n",
    "        except ZeroDivisionError:\n",
    "            print(j)\n",
    "    return df"
   ]
  },
  {
   "cell_type": "code",
   "execution_count": 4,
   "metadata": {},
   "outputs": [],
   "source": [
    "city_day = pd.read_csv(\"city_day.csv\")"
   ]
  },
  {
   "cell_type": "code",
   "execution_count": 5,
   "metadata": {},
   "outputs": [],
   "source": [
    "city_day['Date'] =  pd.to_datetime(city_day['Date'],format='%Y-%m-%d')"
   ]
  },
  {
   "cell_type": "code",
   "execution_count": 6,
   "metadata": {},
   "outputs": [],
   "source": [
    "year = city_day['Date'].dt.year\n",
    "month = city_day['Date'].dt.month\n",
    "day = city_day['Date'].dt.day"
   ]
  },
  {
   "cell_type": "code",
   "execution_count": 7,
   "metadata": {},
   "outputs": [],
   "source": [
    "city_day.insert(loc=1, column='Year', value= year)\n",
    "city_day.insert(loc=2, column='Month', value= month)\n",
    "city_day.insert(loc=3, column='Date1', value= day)"
   ]
  },
  {
   "cell_type": "code",
   "execution_count": 8,
   "metadata": {},
   "outputs": [],
   "source": [
    "n_city = set(list(city_day[\"City\"]))"
   ]
  },
  {
   "cell_type": "code",
   "execution_count": 9,
   "metadata": {},
   "outputs": [],
   "source": [
    "n_city1 = city_day.City.unique()"
   ]
  },
  {
   "cell_type": "code",
   "execution_count": 10,
   "metadata": {},
   "outputs": [],
   "source": [
    "n_city1 = set(n_city1)"
   ]
  },
  {
   "cell_type": "code",
   "execution_count": 11,
   "metadata": {},
   "outputs": [
    {
     "data": {
      "text/plain": [
       "{'Ahmedabad',\n",
       " 'Aizawl',\n",
       " 'Amaravati',\n",
       " 'Amritsar',\n",
       " 'Bengaluru',\n",
       " 'Bhopal',\n",
       " 'Brajrajnagar',\n",
       " 'Chandigarh',\n",
       " 'Chennai',\n",
       " 'Delhi',\n",
       " 'Ernakulam',\n",
       " 'Gurugram',\n",
       " 'Guwahati',\n",
       " 'Hyderabad',\n",
       " 'Jaipur',\n",
       " 'Jorapokhar',\n",
       " 'Kochi',\n",
       " 'Kolkata',\n",
       " 'Lucknow',\n",
       " 'Mumbai',\n",
       " 'Patna',\n",
       " 'Shillong',\n",
       " 'Talcher',\n",
       " 'Thiruvananthapuram'}"
      ]
     },
     "execution_count": 11,
     "metadata": {},
     "output_type": "execute_result"
    }
   ],
   "source": [
    "n_city1"
   ]
  },
  {
   "cell_type": "code",
   "execution_count": 12,
   "metadata": {},
   "outputs": [],
   "source": [
    "b = [\"Thurs\",\"Fri\",\"Sat\",\"Sun\",\"Mon\",\"Tue\",\"Wed\"]\n",
    "c = len(list(city_day[\"NO2\"]))\n",
    "a = b * int(c/7) + b[:( c % 7 )] "
   ]
  },
  {
   "cell_type": "code",
   "execution_count": 13,
   "metadata": {},
   "outputs": [],
   "source": [
    "city_day[\"Day\"] = a"
   ]
  },
  {
   "cell_type": "code",
   "execution_count": 14,
   "metadata": {},
   "outputs": [],
   "source": [
    "pollutants= ['PM2.5','PM10','NO','NO2','NOx','CO','SO2','O3','Benzene','Toluene','Xylene','AQI']"
   ]
  },
  {
   "cell_type": "code",
   "execution_count": 15,
   "metadata": {},
   "outputs": [
    {
     "name": "stdout",
     "output_type": "stream",
     "text": [
      "Name of the city  Guwahati\n",
      "Toluene\n",
      "Xylene\n",
      "Name of the city  Amritsar\n",
      "Name of the city  Amaravati\n",
      "Name of the city  Jorapokhar\n",
      "NOx\n",
      "Benzene\n",
      "Toluene\n",
      "Xylene\n",
      "Name of the city  Talcher\n",
      "Xylene\n",
      "Name of the city  Lucknow\n",
      "PM10\n",
      "Xylene\n",
      "Name of the city  Chandigarh\n",
      "Name of the city  Gurugram\n",
      "Name of the city  Aizawl\n",
      "Xylene\n",
      "Name of the city  Chennai\n",
      "Xylene\n",
      "Name of the city  Jaipur\n",
      "Xylene\n",
      "Name of the city  Delhi\n",
      "Name of the city  Kochi\n",
      "Benzene\n",
      "Xylene\n",
      "Name of the city  Ernakulam\n",
      "O3\n",
      "Name of the city  Bhopal\n",
      "Benzene\n",
      "Toluene\n",
      "Xylene\n",
      "Name of the city  Mumbai\n",
      "Name of the city  Hyderabad\n",
      "Name of the city  Patna\n",
      "Name of the city  Kolkata\n",
      "Name of the city  Brajrajnagar\n",
      "Toluene\n",
      "Xylene\n",
      "Name of the city  Shillong\n",
      "Xylene\n",
      "Name of the city  Ahmedabad\n",
      "Name of the city  Thiruvananthapuram\n",
      "Benzene\n",
      "Toluene\n",
      "Xylene\n",
      "Name of the city  Bengaluru\n",
      "Xylene\n"
     ]
    }
   ],
   "source": [
    "df2 = pd.DataFrame({},columns=[])\n",
    "for i in n_city1:\n",
    "    print(\"Name of the city \",i)\n",
    "    df1=replace_nan(city_day[city_day[\"City\"]==i] ,pollutants,4)\n",
    "    df2 = pd.concat([df2, df1], ignore_index=True, sort=False)"
   ]
  },
  {
   "cell_type": "code",
   "execution_count": null,
   "metadata": {},
   "outputs": [],
   "source": []
  },
  {
   "cell_type": "code",
   "execution_count": null,
   "metadata": {},
   "outputs": [],
   "source": []
  },
  {
   "cell_type": "code",
   "execution_count": 16,
   "metadata": {},
   "outputs": [
    {
     "data": {
      "text/plain": [
       "City              0\n",
       "Year              0\n",
       "Month             0\n",
       "Date1             0\n",
       "Date              0\n",
       "PM2.5          3662\n",
       "PM10           9167\n",
       "NO             2624\n",
       "NO2            2609\n",
       "NOx            3449\n",
       "NH3            9847\n",
       "CO             1352\n",
       "SO2            2931\n",
       "O3             2975\n",
       "Benzene        4804\n",
       "Toluene        7072\n",
       "Xylene        16323\n",
       "AQI            3609\n",
       "AQI_Bucket     4282\n",
       "Day               0\n",
       "dtype: int64"
      ]
     },
     "execution_count": 16,
     "metadata": {},
     "output_type": "execute_result"
    }
   ],
   "source": [
    "df2.isnull().sum()"
   ]
  },
  {
   "cell_type": "code",
   "execution_count": 17,
   "metadata": {},
   "outputs": [],
   "source": [
    "city_day_ahm = city_day[city_day[\"City\"]=='Ahmedabad']"
   ]
  },
  {
   "cell_type": "markdown",
   "metadata": {},
   "source": [
    "# Data Visualization"
   ]
  },
  {
   "cell_type": "code",
   "execution_count": 18,
   "metadata": {},
   "outputs": [
    {
     "ename": "ModuleNotFoundError",
     "evalue": "No module named 'statsmodels'",
     "output_type": "error",
     "traceback": [
      "\u001b[0;31m---------------------------------------------------------------------------\u001b[0m",
      "\u001b[0;31mModuleNotFoundError\u001b[0m                       Traceback (most recent call last)",
      "\u001b[0;32m<ipython-input-18-81f064fff7c5>\u001b[0m in \u001b[0;36m<module>\u001b[0;34m\u001b[0m\n\u001b[1;32m      2\u001b[0m \u001b[0mget_ipython\u001b[0m\u001b[0;34m(\u001b[0m\u001b[0;34m)\u001b[0m\u001b[0;34m.\u001b[0m\u001b[0mrun_line_magic\u001b[0m\u001b[0;34m(\u001b[0m\u001b[0;34m'matplotlib'\u001b[0m\u001b[0;34m,\u001b[0m \u001b[0;34m'inline'\u001b[0m\u001b[0;34m)\u001b[0m\u001b[0;34m\u001b[0m\u001b[0;34m\u001b[0m\u001b[0m\n\u001b[1;32m      3\u001b[0m \u001b[0;32mfrom\u001b[0m \u001b[0mmatplotlib\u001b[0m\u001b[0;34m.\u001b[0m\u001b[0mpylab\u001b[0m \u001b[0;32mimport\u001b[0m \u001b[0mrcParams\u001b[0m\u001b[0;34m\u001b[0m\u001b[0;34m\u001b[0m\u001b[0m\n\u001b[0;32m----> 4\u001b[0;31m \u001b[0;32mfrom\u001b[0m \u001b[0mstatsmodels\u001b[0m\u001b[0;34m.\u001b[0m\u001b[0mtsa\u001b[0m\u001b[0;34m.\u001b[0m\u001b[0mstattools\u001b[0m \u001b[0;32mimport\u001b[0m \u001b[0madfuller\u001b[0m\u001b[0;34m\u001b[0m\u001b[0;34m\u001b[0m\u001b[0m\n\u001b[0m\u001b[1;32m      5\u001b[0m \u001b[0;31m# from statsmodels.tsa.seasonal import seasonal_decomposes\u001b[0m\u001b[0;34m\u001b[0m\u001b[0;34m\u001b[0m\u001b[0;34m\u001b[0m\u001b[0m\n\u001b[1;32m      6\u001b[0m \u001b[0;32mfrom\u001b[0m \u001b[0mstatsmodels\u001b[0m\u001b[0;34m.\u001b[0m\u001b[0mtsa\u001b[0m\u001b[0;34m.\u001b[0m\u001b[0marima_model\u001b[0m \u001b[0;32mimport\u001b[0m \u001b[0mARIMA\u001b[0m\u001b[0;34m\u001b[0m\u001b[0;34m\u001b[0m\u001b[0m\n",
      "\u001b[0;31mModuleNotFoundError\u001b[0m: No module named 'statsmodels'"
     ]
    }
   ],
   "source": [
    "import matplotlib.pylab as plt\n",
    "%matplotlib inline\n",
    "from matplotlib.pylab import rcParams\n",
    "from statsmodels.tsa.stattools import adfuller\n",
    "# from statsmodels.tsa.seasonal import seasonal_decomposes\n",
    "from statsmodels.tsa.arima_model import ARIMA\n",
    "rcParams['figure.figsize'] = 15, 6"
   ]
  },
  {
   "cell_type": "code",
   "execution_count": 19,
   "metadata": {},
   "outputs": [],
   "source": [
    "df_date = city_day_ahm.set_index(['Date'],inplace=False)"
   ]
  },
  {
   "cell_type": "code",
   "execution_count": 20,
   "metadata": {},
   "outputs": [
    {
     "data": {
      "text/html": [
       "<div>\n",
       "<style scoped>\n",
       "    .dataframe tbody tr th:only-of-type {\n",
       "        vertical-align: middle;\n",
       "    }\n",
       "\n",
       "    .dataframe tbody tr th {\n",
       "        vertical-align: top;\n",
       "    }\n",
       "\n",
       "    .dataframe thead th {\n",
       "        text-align: right;\n",
       "    }\n",
       "</style>\n",
       "<table border=\"1\" class=\"dataframe\">\n",
       "  <thead>\n",
       "    <tr style=\"text-align: right;\">\n",
       "      <th></th>\n",
       "      <th>City</th>\n",
       "      <th>Year</th>\n",
       "      <th>Month</th>\n",
       "      <th>Date1</th>\n",
       "      <th>PM2.5</th>\n",
       "      <th>PM10</th>\n",
       "      <th>NO</th>\n",
       "      <th>NO2</th>\n",
       "      <th>NOx</th>\n",
       "      <th>NH3</th>\n",
       "      <th>CO</th>\n",
       "      <th>SO2</th>\n",
       "      <th>O3</th>\n",
       "      <th>Benzene</th>\n",
       "      <th>Toluene</th>\n",
       "      <th>Xylene</th>\n",
       "      <th>AQI</th>\n",
       "      <th>AQI_Bucket</th>\n",
       "      <th>Day</th>\n",
       "    </tr>\n",
       "    <tr>\n",
       "      <th>Date</th>\n",
       "      <th></th>\n",
       "      <th></th>\n",
       "      <th></th>\n",
       "      <th></th>\n",
       "      <th></th>\n",
       "      <th></th>\n",
       "      <th></th>\n",
       "      <th></th>\n",
       "      <th></th>\n",
       "      <th></th>\n",
       "      <th></th>\n",
       "      <th></th>\n",
       "      <th></th>\n",
       "      <th></th>\n",
       "      <th></th>\n",
       "      <th></th>\n",
       "      <th></th>\n",
       "      <th></th>\n",
       "      <th></th>\n",
       "    </tr>\n",
       "  </thead>\n",
       "  <tbody>\n",
       "    <tr>\n",
       "      <th>2015-01-01</th>\n",
       "      <td>Ahmedabad</td>\n",
       "      <td>2015</td>\n",
       "      <td>1</td>\n",
       "      <td>1</td>\n",
       "      <td>NaN</td>\n",
       "      <td>NaN</td>\n",
       "      <td>0.92</td>\n",
       "      <td>18.22</td>\n",
       "      <td>17.15</td>\n",
       "      <td>NaN</td>\n",
       "      <td>0.92</td>\n",
       "      <td>27.64</td>\n",
       "      <td>133.36</td>\n",
       "      <td>0.00</td>\n",
       "      <td>0.02</td>\n",
       "      <td>0.00</td>\n",
       "      <td>NaN</td>\n",
       "      <td>NaN</td>\n",
       "      <td>Thurs</td>\n",
       "    </tr>\n",
       "    <tr>\n",
       "      <th>2015-01-02</th>\n",
       "      <td>Ahmedabad</td>\n",
       "      <td>2015</td>\n",
       "      <td>1</td>\n",
       "      <td>2</td>\n",
       "      <td>NaN</td>\n",
       "      <td>NaN</td>\n",
       "      <td>0.97</td>\n",
       "      <td>15.69</td>\n",
       "      <td>16.46</td>\n",
       "      <td>NaN</td>\n",
       "      <td>0.97</td>\n",
       "      <td>24.55</td>\n",
       "      <td>34.06</td>\n",
       "      <td>3.68</td>\n",
       "      <td>5.50</td>\n",
       "      <td>3.77</td>\n",
       "      <td>NaN</td>\n",
       "      <td>NaN</td>\n",
       "      <td>Fri</td>\n",
       "    </tr>\n",
       "  </tbody>\n",
       "</table>\n",
       "</div>"
      ],
      "text/plain": [
       "                 City  Year  Month  Date1  PM2.5  PM10    NO    NO2    NOx  \\\n",
       "Date                                                                         \n",
       "2015-01-01  Ahmedabad  2015      1      1    NaN   NaN  0.92  18.22  17.15   \n",
       "2015-01-02  Ahmedabad  2015      1      2    NaN   NaN  0.97  15.69  16.46   \n",
       "\n",
       "            NH3    CO    SO2      O3  Benzene  Toluene  Xylene  AQI  \\\n",
       "Date                                                                  \n",
       "2015-01-01  NaN  0.92  27.64  133.36     0.00     0.02    0.00  NaN   \n",
       "2015-01-02  NaN  0.97  24.55   34.06     3.68     5.50    3.77  NaN   \n",
       "\n",
       "           AQI_Bucket    Day  \n",
       "Date                          \n",
       "2015-01-01        NaN  Thurs  \n",
       "2015-01-02        NaN    Fri  "
      ]
     },
     "execution_count": 20,
     "metadata": {},
     "output_type": "execute_result"
    }
   ],
   "source": [
    "df_date.head(2)"
   ]
  },
  {
   "cell_type": "code",
   "execution_count": 21,
   "metadata": {},
   "outputs": [],
   "source": [
    "# SO2"
   ]
  },
  {
   "cell_type": "code",
   "execution_count": null,
   "metadata": {},
   "outputs": [],
   "source": []
  },
  {
   "cell_type": "markdown",
   "metadata": {},
   "source": [
    "# Checking for stationarity"
   ]
  },
  {
   "cell_type": "code",
   "execution_count": 22,
   "metadata": {},
   "outputs": [],
   "source": [
    "df = df_date[\"SO2\"]"
   ]
  },
  {
   "cell_type": "code",
   "execution_count": 23,
   "metadata": {},
   "outputs": [
    {
     "data": {
      "text/plain": [
       "613"
      ]
     },
     "execution_count": 23,
     "metadata": {},
     "output_type": "execute_result"
    }
   ],
   "source": [
    "df.isnull().sum()"
   ]
  },
  {
   "cell_type": "code",
   "execution_count": 24,
   "metadata": {},
   "outputs": [
    {
     "data": {
      "text/plain": [
       "[<matplotlib.lines.Line2D at 0x7f3fb94cfda0>]"
      ]
     },
     "execution_count": 24,
     "metadata": {},
     "output_type": "execute_result"
    },
    {
     "data": {
      "image/png": "[encoded data removed]",
      "text/plain": [
       "<Figure size 432x288 with 1 Axes>"
      ]
     },
     "metadata": {
      "needs_background": "light"
     },
     "output_type": "display_data"
    }
   ],
   "source": [
    "plt.plot(df)"
   ]
  },
  {
   "cell_type": "code",
   "execution_count": 25,
   "metadata": {},
   "outputs": [
    {
     "ename": "ModuleNotFoundError",
     "evalue": "No module named 'statsmodels'",
     "output_type": "error",
     "traceback": [
      "\u001b[0;31m---------------------------------------------------------------------------\u001b[0m",
      "\u001b[0;31mModuleNotFoundError\u001b[0m                       Traceback (most recent call last)",
      "\u001b[0;32m<ipython-input-25-c26fc8acc1cd>\u001b[0m in \u001b[0;36m<module>\u001b[0;34m\u001b[0m\n\u001b[0;32m----> 1\u001b[0;31m \u001b[0;32mfrom\u001b[0m \u001b[0mstatsmodels\u001b[0m\u001b[0;34m.\u001b[0m\u001b[0mtsa\u001b[0m\u001b[0;34m.\u001b[0m\u001b[0mstattools\u001b[0m \u001b[0;32mimport\u001b[0m \u001b[0madfuller\u001b[0m\u001b[0;34m\u001b[0m\u001b[0;34m\u001b[0m\u001b[0m\n\u001b[0m\u001b[1;32m      2\u001b[0m \u001b[0;32mdef\u001b[0m \u001b[0mtest_stationarity\u001b[0m\u001b[0;34m(\u001b[0m\u001b[0mtimeseries\u001b[0m\u001b[0;34m)\u001b[0m\u001b[0;34m:\u001b[0m\u001b[0;34m\u001b[0m\u001b[0;34m\u001b[0m\u001b[0m\n\u001b[1;32m      3\u001b[0m \u001b[0;34m\u001b[0m\u001b[0m\n\u001b[1;32m      4\u001b[0m     \u001b[0;31m#Determing rolling statistics\u001b[0m\u001b[0;34m\u001b[0m\u001b[0;34m\u001b[0m\u001b[0;34m\u001b[0m\u001b[0m\n\u001b[1;32m      5\u001b[0m     \u001b[0;31m#rolmean = pd.rolling_mean(timeseries, window=12)\u001b[0m\u001b[0;34m\u001b[0m\u001b[0;34m\u001b[0m\u001b[0;34m\u001b[0m\u001b[0m\n",
      "\u001b[0;31mModuleNotFoundError\u001b[0m: No module named 'statsmodels'"
     ]
    }
   ],
   "source": [
    "from statsmodels.tsa.stattools import adfuller\n",
    "def test_stationarity(timeseries):\n",
    "    \n",
    "    #Determing rolling statistics\n",
    "    #rolmean = pd.rolling_mean(timeseries, window=12)\n",
    "    rolmean=timeseries.rolling(12).mean()\n",
    "    rolstd = timeseries.rolling(12).std()\n",
    "\n",
    "    #Plot rolling statistics:\n",
    "    orig = plt.plot(timeseries, color='blue',label='Original')\n",
    "    mean = plt.plot(rolmean, color='red', label='Rolling Mean')\n",
    "    std = plt.plot(rolstd, color='black', label = 'Rolling Std')\n",
    "    plt.legend(loc='best')\n",
    "    plt.title('Rolling Mean & Standard Deviation')\n",
    "    plt.show(block=False)\n",
    "    \n",
    "    #Perform Dickey-Fuller test:\n",
    "    print (\"Results of Dickey-Fuller Test:\")\n",
    "    dftest = adfuller(timeseries, autolag='AIC')\n",
    "    dfoutput = pd.Series(dftest[0:4], index=['Test Statistic','p-value','#Lags Used','Number of Observations Used'])\n",
    "    for key,value in dftest[4].items():\n",
    "        dfoutput['Critical Value (%s)'%key] = value\n",
    "    print (dfoutput)"
   ]
  },
  {
   "cell_type": "code",
   "execution_count": null,
   "metadata": {},
   "outputs": [],
   "source": [
    "test_stationarity(df)"
   ]
  },
  {
   "cell_type": "code",
   "execution_count": 26,
   "metadata": {},
   "outputs": [
    {
     "ename": "ModuleNotFoundError",
     "evalue": "No module named 'statsmodels'",
     "output_type": "error",
     "traceback": [
      "\u001b[0;31m---------------------------------------------------------------------------\u001b[0m",
      "\u001b[0;31mModuleNotFoundError\u001b[0m                       Traceback (most recent call last)",
      "\u001b[0;32m<ipython-input-26-ffc57845209d>\u001b[0m in \u001b[0;36m<module>\u001b[0;34m\u001b[0m\n\u001b[0;32m----> 1\u001b[0;31m \u001b[0;32mfrom\u001b[0m \u001b[0mstatsmodels\u001b[0m\u001b[0;34m.\u001b[0m\u001b[0mtsa\u001b[0m\u001b[0;34m.\u001b[0m\u001b[0mseasonal\u001b[0m \u001b[0;32mimport\u001b[0m \u001b[0mseasonal_decompose\u001b[0m\u001b[0;34m\u001b[0m\u001b[0;34m\u001b[0m\u001b[0m\n\u001b[0m\u001b[1;32m      2\u001b[0m \u001b[0mdecomposition\u001b[0m \u001b[0;34m=\u001b[0m \u001b[0mseasonal_decompose\u001b[0m\u001b[0;34m(\u001b[0m\u001b[0mdf\u001b[0m\u001b[0;34m)\u001b[0m\u001b[0;34m\u001b[0m\u001b[0;34m\u001b[0m\u001b[0m\n\u001b[1;32m      3\u001b[0m \u001b[0mtrend\u001b[0m \u001b[0;34m=\u001b[0m \u001b[0mdecomposition\u001b[0m\u001b[0;34m.\u001b[0m\u001b[0mtrend\u001b[0m\u001b[0;34m\u001b[0m\u001b[0;34m\u001b[0m\u001b[0m\n\u001b[1;32m      4\u001b[0m \u001b[0mseasonal\u001b[0m \u001b[0;34m=\u001b[0m \u001b[0mdecomposition\u001b[0m\u001b[0;34m.\u001b[0m\u001b[0mseasonal\u001b[0m\u001b[0;34m\u001b[0m\u001b[0;34m\u001b[0m\u001b[0m\n\u001b[1;32m      5\u001b[0m \u001b[0mresidual\u001b[0m \u001b[0;34m=\u001b[0m \u001b[0mdecomposition\u001b[0m\u001b[0;34m.\u001b[0m\u001b[0mresid\u001b[0m\u001b[0;34m\u001b[0m\u001b[0;34m\u001b[0m\u001b[0m\n",
      "\u001b[0;31mModuleNotFoundError\u001b[0m: No module named 'statsmodels'"
     ]
    }
   ],
   "source": [
    "from statsmodels.tsa.seasonal import seasonal_decompose\n",
    "decomposition = seasonal_decompose(df)\n",
    "trend = decomposition.trend\n",
    "seasonal = decomposition.seasonal\n",
    "residual = decomposition.resid\n",
    "plt.subplot(411)\n",
    "plt.plot(df, label='Original')\n",
    "plt.legend(loc='best')\n",
    "plt.subplot(412)\n",
    "plt.plot(trend, label='Trend')\n",
    "plt.legend(loc='best')\n",
    "plt.subplot(413)\n",
    "plt.plot(seasonal,label='Seasonality')\n",
    "plt.legend(loc='best')\n",
    "plt.subplot(414)\n",
    "plt.plot(residual, label='Residuals')\n",
    "plt.legend(loc='best')\n",
    "plt.tight_layout()"
   ]
  },
  {
   "cell_type": "code",
   "execution_count": 27,
   "metadata": {},
   "outputs": [
    {
     "ename": "NameError",
     "evalue": "name 'residual' is not defined",
     "output_type": "error",
     "traceback": [
      "\u001b[0;31m---------------------------------------------------------------------------\u001b[0m",
      "\u001b[0;31mNameError\u001b[0m                                 Traceback (most recent call last)",
      "\u001b[0;32m<ipython-input-27-83eec71fe038>\u001b[0m in \u001b[0;36m<module>\u001b[0;34m\u001b[0m\n\u001b[0;32m----> 1\u001b[0;31m \u001b[0mdf_decompose\u001b[0m \u001b[0;34m=\u001b[0m \u001b[0mresidual\u001b[0m\u001b[0;34m\u001b[0m\u001b[0;34m\u001b[0m\u001b[0m\n\u001b[0m\u001b[1;32m      2\u001b[0m \u001b[0;31m# df_decompose.dropna(inplace=True)\u001b[0m\u001b[0;34m\u001b[0m\u001b[0;34m\u001b[0m\u001b[0;34m\u001b[0m\u001b[0m\n\u001b[1;32m      3\u001b[0m \u001b[0mtest_stationarity\u001b[0m\u001b[0;34m(\u001b[0m\u001b[0mdf_decompose\u001b[0m\u001b[0;34m)\u001b[0m\u001b[0;34m\u001b[0m\u001b[0;34m\u001b[0m\u001b[0m\n",
      "\u001b[0;31mNameError\u001b[0m: name 'residual' is not defined"
     ]
    }
   ],
   "source": [
    "df_decompose = residual\n",
    "# df_decompose.dropna(inplace=True)\n",
    "test_stationarity(df_decompose)"
   ]
  },
  {
   "cell_type": "code",
   "execution_count": 28,
   "metadata": {},
   "outputs": [
    {
     "ename": "ModuleNotFoundError",
     "evalue": "No module named 'statsmodels'",
     "output_type": "error",
     "traceback": [
      "\u001b[0;31m---------------------------------------------------------------------------\u001b[0m",
      "\u001b[0;31mModuleNotFoundError\u001b[0m                       Traceback (most recent call last)",
      "\u001b[0;32m<ipython-input-28-b475c7a535c6>\u001b[0m in \u001b[0;36m<module>\u001b[0;34m\u001b[0m\n\u001b[1;32m      1\u001b[0m \u001b[0;31m#ACF and PACF plots:\u001b[0m\u001b[0;34m\u001b[0m\u001b[0;34m\u001b[0m\u001b[0;34m\u001b[0m\u001b[0m\n\u001b[0;32m----> 2\u001b[0;31m \u001b[0;32mfrom\u001b[0m \u001b[0mstatsmodels\u001b[0m\u001b[0;34m.\u001b[0m\u001b[0mtsa\u001b[0m\u001b[0;34m.\u001b[0m\u001b[0mstattools\u001b[0m \u001b[0;32mimport\u001b[0m \u001b[0macf\u001b[0m\u001b[0;34m,\u001b[0m \u001b[0mpacf\u001b[0m\u001b[0;34m\u001b[0m\u001b[0;34m\u001b[0m\u001b[0m\n\u001b[0m\u001b[1;32m      3\u001b[0m \u001b[0;34m\u001b[0m\u001b[0m\n\u001b[1;32m      4\u001b[0m \u001b[0mlag_acf\u001b[0m \u001b[0;34m=\u001b[0m \u001b[0macf\u001b[0m\u001b[0;34m(\u001b[0m\u001b[0mdf\u001b[0m\u001b[0;34m,\u001b[0m \u001b[0mnlags\u001b[0m\u001b[0;34m=\u001b[0m\u001b[0;36m20\u001b[0m\u001b[0;34m)\u001b[0m\u001b[0;34m\u001b[0m\u001b[0;34m\u001b[0m\u001b[0m\n\u001b[1;32m      5\u001b[0m \u001b[0mlag_pacf\u001b[0m \u001b[0;34m=\u001b[0m \u001b[0mpacf\u001b[0m\u001b[0;34m(\u001b[0m\u001b[0mdf\u001b[0m\u001b[0;34m,\u001b[0m \u001b[0mnlags\u001b[0m\u001b[0;34m=\u001b[0m\u001b[0;36m20\u001b[0m\u001b[0;34m,\u001b[0m \u001b[0mmethod\u001b[0m\u001b[0;34m=\u001b[0m\u001b[0;34m'ols'\u001b[0m\u001b[0;34m)\u001b[0m\u001b[0;34m\u001b[0m\u001b[0;34m\u001b[0m\u001b[0m\n",
      "\u001b[0;31mModuleNotFoundError\u001b[0m: No module named 'statsmodels'"
     ]
    }
   ],
   "source": [
    "#ACF and PACF plots:\n",
    "from statsmodels.tsa.stattools import acf, pacf  \n",
    "\n",
    "lag_acf = acf(df, nlags=20)\n",
    "lag_pacf = pacf(df, nlags=20, method='ols')\n",
    "\n",
    "#Plot ACF:    \n",
    "plt.subplot(121)    \n",
    "plt.plot(lag_acf)\n",
    "plt.axhline(y=0,linestyle='--',color='gray')\n",
    "plt.axhline(y=-1.96/np.sqrt(len(df)),linestyle='--',color='gray')\n",
    "plt.axhline(y=1.96/np.sqrt(len(df)),linestyle='--',color='gray')\n",
    "plt.title('Autocorrelation Function')\n",
    "\n",
    "#Plot PACF:\n",
    "plt.subplot(122)\n",
    "plt.plot(lag_pacf)\n",
    "plt.axhline(y=0,linestyle='--',color='gray')\n",
    "plt.axhline(y=-1.96/np.sqrt(len(df)),linestyle='--',color='gray')\n",
    "plt.axhline(y=1.96/np.sqrt(len(df)),linestyle='--',color='gray')\n",
    "plt.title('Partial Autocorrelation Function')\n",
    "plt.tight_layout()"
   ]
  },
  {
   "cell_type": "code",
   "execution_count": 29,
   "metadata": {},
   "outputs": [
    {
     "ename": "NameError",
     "evalue": "name 'city_dam' is not defined",
     "output_type": "error",
     "traceback": [
      "\u001b[0;31m---------------------------------------------------------------------------\u001b[0m",
      "\u001b[0;31mNameError\u001b[0m                                 Traceback (most recent call last)",
      "\u001b[0;32m<ipython-input-29-e7f925645b74>\u001b[0m in \u001b[0;36m<module>\u001b[0;34m\u001b[0m\n\u001b[0;32m----> 1\u001b[0;31m \u001b[0mcity_dam\u001b[0m\u001b[0;34m\u001b[0m\u001b[0;34m\u001b[0m\u001b[0m\n\u001b[0m",
      "\u001b[0;31mNameError\u001b[0m: name 'city_dam' is not defined"
     ]
    }
   ],
   "source": [
    "city_dam"
   ]
  },
  {
   "cell_type": "code",
   "execution_count": 30,
   "metadata": {},
   "outputs": [],
   "source": [
    "# Modelling"
   ]
  },
  {
   "cell_type": "code",
   "execution_count": 31,
   "metadata": {},
   "outputs": [
    {
     "data": {
      "text/html": [
       "<div>\n",
       "<style scoped>\n",
       "    .dataframe tbody tr th:only-of-type {\n",
       "        vertical-align: middle;\n",
       "    }\n",
       "\n",
       "    .dataframe tbody tr th {\n",
       "        vertical-align: top;\n",
       "    }\n",
       "\n",
       "    .dataframe thead th {\n",
       "        text-align: right;\n",
       "    }\n",
       "</style>\n",
       "<table border=\"1\" class=\"dataframe\">\n",
       "  <thead>\n",
       "    <tr style=\"text-align: right;\">\n",
       "      <th></th>\n",
       "      <th>City</th>\n",
       "      <th>Year</th>\n",
       "      <th>Month</th>\n",
       "      <th>Date1</th>\n",
       "      <th>Date</th>\n",
       "      <th>PM2.5</th>\n",
       "      <th>PM10</th>\n",
       "      <th>NO</th>\n",
       "      <th>NO2</th>\n",
       "      <th>NOx</th>\n",
       "      <th>NH3</th>\n",
       "      <th>CO</th>\n",
       "      <th>SO2</th>\n",
       "      <th>O3</th>\n",
       "      <th>Benzene</th>\n",
       "      <th>Toluene</th>\n",
       "      <th>Xylene</th>\n",
       "      <th>AQI</th>\n",
       "      <th>AQI_Bucket</th>\n",
       "      <th>Day</th>\n",
       "    </tr>\n",
       "  </thead>\n",
       "  <tbody>\n",
       "    <tr>\n",
       "      <th>0</th>\n",
       "      <td>Ahmedabad</td>\n",
       "      <td>2015</td>\n",
       "      <td>1</td>\n",
       "      <td>1</td>\n",
       "      <td>2015-01-01</td>\n",
       "      <td>NaN</td>\n",
       "      <td>NaN</td>\n",
       "      <td>0.92</td>\n",
       "      <td>18.22</td>\n",
       "      <td>17.15</td>\n",
       "      <td>NaN</td>\n",
       "      <td>0.92</td>\n",
       "      <td>27.64</td>\n",
       "      <td>133.36</td>\n",
       "      <td>0.00</td>\n",
       "      <td>0.02</td>\n",
       "      <td>0.00</td>\n",
       "      <td>NaN</td>\n",
       "      <td>NaN</td>\n",
       "      <td>Thurs</td>\n",
       "    </tr>\n",
       "    <tr>\n",
       "      <th>1</th>\n",
       "      <td>Ahmedabad</td>\n",
       "      <td>2015</td>\n",
       "      <td>1</td>\n",
       "      <td>2</td>\n",
       "      <td>2015-01-02</td>\n",
       "      <td>NaN</td>\n",
       "      <td>NaN</td>\n",
       "      <td>0.97</td>\n",
       "      <td>15.69</td>\n",
       "      <td>16.46</td>\n",
       "      <td>NaN</td>\n",
       "      <td>0.97</td>\n",
       "      <td>24.55</td>\n",
       "      <td>34.06</td>\n",
       "      <td>3.68</td>\n",
       "      <td>5.50</td>\n",
       "      <td>3.77</td>\n",
       "      <td>NaN</td>\n",
       "      <td>NaN</td>\n",
       "      <td>Fri</td>\n",
       "    </tr>\n",
       "    <tr>\n",
       "      <th>2</th>\n",
       "      <td>Ahmedabad</td>\n",
       "      <td>2015</td>\n",
       "      <td>1</td>\n",
       "      <td>3</td>\n",
       "      <td>2015-01-03</td>\n",
       "      <td>NaN</td>\n",
       "      <td>NaN</td>\n",
       "      <td>17.40</td>\n",
       "      <td>19.30</td>\n",
       "      <td>29.70</td>\n",
       "      <td>NaN</td>\n",
       "      <td>17.40</td>\n",
       "      <td>29.07</td>\n",
       "      <td>30.70</td>\n",
       "      <td>6.80</td>\n",
       "      <td>16.40</td>\n",
       "      <td>2.25</td>\n",
       "      <td>NaN</td>\n",
       "      <td>NaN</td>\n",
       "      <td>Sat</td>\n",
       "    </tr>\n",
       "    <tr>\n",
       "      <th>3</th>\n",
       "      <td>Ahmedabad</td>\n",
       "      <td>2015</td>\n",
       "      <td>1</td>\n",
       "      <td>4</td>\n",
       "      <td>2015-01-04</td>\n",
       "      <td>NaN</td>\n",
       "      <td>NaN</td>\n",
       "      <td>1.70</td>\n",
       "      <td>18.48</td>\n",
       "      <td>17.97</td>\n",
       "      <td>NaN</td>\n",
       "      <td>1.70</td>\n",
       "      <td>18.59</td>\n",
       "      <td>36.08</td>\n",
       "      <td>4.43</td>\n",
       "      <td>10.14</td>\n",
       "      <td>1.00</td>\n",
       "      <td>NaN</td>\n",
       "      <td>NaN</td>\n",
       "      <td>Sun</td>\n",
       "    </tr>\n",
       "    <tr>\n",
       "      <th>4</th>\n",
       "      <td>Ahmedabad</td>\n",
       "      <td>2015</td>\n",
       "      <td>1</td>\n",
       "      <td>5</td>\n",
       "      <td>2015-01-05</td>\n",
       "      <td>NaN</td>\n",
       "      <td>NaN</td>\n",
       "      <td>22.10</td>\n",
       "      <td>21.42</td>\n",
       "      <td>37.76</td>\n",
       "      <td>NaN</td>\n",
       "      <td>22.10</td>\n",
       "      <td>39.33</td>\n",
       "      <td>39.31</td>\n",
       "      <td>7.01</td>\n",
       "      <td>18.89</td>\n",
       "      <td>2.78</td>\n",
       "      <td>NaN</td>\n",
       "      <td>NaN</td>\n",
       "      <td>Mon</td>\n",
       "    </tr>\n",
       "    <tr>\n",
       "      <th>...</th>\n",
       "      <td>...</td>\n",
       "      <td>...</td>\n",
       "      <td>...</td>\n",
       "      <td>...</td>\n",
       "      <td>...</td>\n",
       "      <td>...</td>\n",
       "      <td>...</td>\n",
       "      <td>...</td>\n",
       "      <td>...</td>\n",
       "      <td>...</td>\n",
       "      <td>...</td>\n",
       "      <td>...</td>\n",
       "      <td>...</td>\n",
       "      <td>...</td>\n",
       "      <td>...</td>\n",
       "      <td>...</td>\n",
       "      <td>...</td>\n",
       "      <td>...</td>\n",
       "      <td>...</td>\n",
       "      <td>...</td>\n",
       "    </tr>\n",
       "    <tr>\n",
       "      <th>1943</th>\n",
       "      <td>Ahmedabad</td>\n",
       "      <td>2020</td>\n",
       "      <td>4</td>\n",
       "      <td>27</td>\n",
       "      <td>2020-04-27</td>\n",
       "      <td>31.76</td>\n",
       "      <td>81.16</td>\n",
       "      <td>3.99</td>\n",
       "      <td>19.95</td>\n",
       "      <td>12.70</td>\n",
       "      <td>NaN</td>\n",
       "      <td>0.46</td>\n",
       "      <td>29.73</td>\n",
       "      <td>52.46</td>\n",
       "      <td>3.52</td>\n",
       "      <td>20.49</td>\n",
       "      <td>1.34</td>\n",
       "      <td>117.0</td>\n",
       "      <td>Moderate</td>\n",
       "      <td>Mon</td>\n",
       "    </tr>\n",
       "    <tr>\n",
       "      <th>1944</th>\n",
       "      <td>Ahmedabad</td>\n",
       "      <td>2020</td>\n",
       "      <td>4</td>\n",
       "      <td>28</td>\n",
       "      <td>2020-04-28</td>\n",
       "      <td>32.55</td>\n",
       "      <td>87.41</td>\n",
       "      <td>3.53</td>\n",
       "      <td>23.58</td>\n",
       "      <td>14.12</td>\n",
       "      <td>NaN</td>\n",
       "      <td>0.46</td>\n",
       "      <td>42.86</td>\n",
       "      <td>50.20</td>\n",
       "      <td>4.92</td>\n",
       "      <td>32.73</td>\n",
       "      <td>2.51</td>\n",
       "      <td>130.0</td>\n",
       "      <td>Moderate</td>\n",
       "      <td>Tue</td>\n",
       "    </tr>\n",
       "    <tr>\n",
       "      <th>1945</th>\n",
       "      <td>Ahmedabad</td>\n",
       "      <td>2020</td>\n",
       "      <td>4</td>\n",
       "      <td>29</td>\n",
       "      <td>2020-04-29</td>\n",
       "      <td>27.15</td>\n",
       "      <td>76.73</td>\n",
       "      <td>3.18</td>\n",
       "      <td>24.82</td>\n",
       "      <td>14.40</td>\n",
       "      <td>NaN</td>\n",
       "      <td>0.67</td>\n",
       "      <td>32.97</td>\n",
       "      <td>54.81</td>\n",
       "      <td>3.39</td>\n",
       "      <td>32.14</td>\n",
       "      <td>2.46</td>\n",
       "      <td>122.0</td>\n",
       "      <td>Moderate</td>\n",
       "      <td>Wed</td>\n",
       "    </tr>\n",
       "    <tr>\n",
       "      <th>1946</th>\n",
       "      <td>Ahmedabad</td>\n",
       "      <td>2020</td>\n",
       "      <td>4</td>\n",
       "      <td>30</td>\n",
       "      <td>2020-04-30</td>\n",
       "      <td>26.93</td>\n",
       "      <td>74.38</td>\n",
       "      <td>2.76</td>\n",
       "      <td>17.05</td>\n",
       "      <td>10.37</td>\n",
       "      <td>NaN</td>\n",
       "      <td>0.46</td>\n",
       "      <td>37.70</td>\n",
       "      <td>56.97</td>\n",
       "      <td>1.92</td>\n",
       "      <td>18.54</td>\n",
       "      <td>1.64</td>\n",
       "      <td>128.0</td>\n",
       "      <td>Moderate</td>\n",
       "      <td>Thurs</td>\n",
       "    </tr>\n",
       "    <tr>\n",
       "      <th>1947</th>\n",
       "      <td>Ahmedabad</td>\n",
       "      <td>2020</td>\n",
       "      <td>5</td>\n",
       "      <td>1</td>\n",
       "      <td>2020-05-01</td>\n",
       "      <td>44.10</td>\n",
       "      <td>93.18</td>\n",
       "      <td>2.75</td>\n",
       "      <td>14.02</td>\n",
       "      <td>8.90</td>\n",
       "      <td>NaN</td>\n",
       "      <td>0.58</td>\n",
       "      <td>3.96</td>\n",
       "      <td>5.24</td>\n",
       "      <td>2.49</td>\n",
       "      <td>37.85</td>\n",
       "      <td>3.22</td>\n",
       "      <td>134.0</td>\n",
       "      <td>Moderate</td>\n",
       "      <td>Fri</td>\n",
       "    </tr>\n",
       "  </tbody>\n",
       "</table>\n",
       "<p>1948 rows × 20 columns</p>\n",
       "</div>"
      ],
      "text/plain": [
       "           City  Year  Month  Date1       Date  PM2.5   PM10     NO    NO2  \\\n",
       "0     Ahmedabad  2015      1      1 2015-01-01    NaN    NaN   0.92  18.22   \n",
       "1     Ahmedabad  2015      1      2 2015-01-02    NaN    NaN   0.97  15.69   \n",
       "2     Ahmedabad  2015      1      3 2015-01-03    NaN    NaN  17.40  19.30   \n",
       "3     Ahmedabad  2015      1      4 2015-01-04    NaN    NaN   1.70  18.48   \n",
       "4     Ahmedabad  2015      1      5 2015-01-05    NaN    NaN  22.10  21.42   \n",
       "...         ...   ...    ...    ...        ...    ...    ...    ...    ...   \n",
       "1943  Ahmedabad  2020      4     27 2020-04-27  31.76  81.16   3.99  19.95   \n",
       "1944  Ahmedabad  2020      4     28 2020-04-28  32.55  87.41   3.53  23.58   \n",
       "1945  Ahmedabad  2020      4     29 2020-04-29  27.15  76.73   3.18  24.82   \n",
       "1946  Ahmedabad  2020      4     30 2020-04-30  26.93  74.38   2.76  17.05   \n",
       "1947  Ahmedabad  2020      5      1 2020-05-01  44.10  93.18   2.75  14.02   \n",
       "\n",
       "        NOx  NH3     CO    SO2      O3  Benzene  Toluene  Xylene    AQI  \\\n",
       "0     17.15  NaN   0.92  27.64  133.36     0.00     0.02    0.00    NaN   \n",
       "1     16.46  NaN   0.97  24.55   34.06     3.68     5.50    3.77    NaN   \n",
       "2     29.70  NaN  17.40  29.07   30.70     6.80    16.40    2.25    NaN   \n",
       "3     17.97  NaN   1.70  18.59   36.08     4.43    10.14    1.00    NaN   \n",
       "4     37.76  NaN  22.10  39.33   39.31     7.01    18.89    2.78    NaN   \n",
       "...     ...  ...    ...    ...     ...      ...      ...     ...    ...   \n",
       "1943  12.70  NaN   0.46  29.73   52.46     3.52    20.49    1.34  117.0   \n",
       "1944  14.12  NaN   0.46  42.86   50.20     4.92    32.73    2.51  130.0   \n",
       "1945  14.40  NaN   0.67  32.97   54.81     3.39    32.14    2.46  122.0   \n",
       "1946  10.37  NaN   0.46  37.70   56.97     1.92    18.54    1.64  128.0   \n",
       "1947   8.90  NaN   0.58   3.96    5.24     2.49    37.85    3.22  134.0   \n",
       "\n",
       "     AQI_Bucket    Day  \n",
       "0           NaN  Thurs  \n",
       "1           NaN    Fri  \n",
       "2           NaN    Sat  \n",
       "3           NaN    Sun  \n",
       "4           NaN    Mon  \n",
       "...         ...    ...  \n",
       "1943   Moderate    Mon  \n",
       "1944   Moderate    Tue  \n",
       "1945   Moderate    Wed  \n",
       "1946   Moderate  Thurs  \n",
       "1947   Moderate    Fri  \n",
       "\n",
       "[1948 rows x 20 columns]"
      ]
     },
     "execution_count": 31,
     "metadata": {},
     "output_type": "execute_result"
    }
   ],
   "source": [
    "city_day_ahm"
   ]
  },
  {
   "cell_type": "code",
   "execution_count": 32,
   "metadata": {},
   "outputs": [
    {
     "ename": "NameError",
     "evalue": "name 'X_train_df' is not defined",
     "output_type": "error",
     "traceback": [
      "\u001b[0;31m---------------------------------------------------------------------------\u001b[0m",
      "\u001b[0;31mNameError\u001b[0m                                 Traceback (most recent call last)",
      "\u001b[0;32m<ipython-input-32-0e09d9c77ecd>\u001b[0m in \u001b[0;36m<module>\u001b[0;34m\u001b[0m\n\u001b[0;32m----> 1\u001b[0;31m \u001b[0mX_train_df\u001b[0m\u001b[0;34m\u001b[0m\u001b[0;34m\u001b[0m\u001b[0m\n\u001b[0m",
      "\u001b[0;31mNameError\u001b[0m: name 'X_train_df' is not defined"
     ]
    }
   ],
   "source": [
    "X_train_df"
   ]
  },
  {
   "cell_type": "code",
   "execution_count": 33,
   "metadata": {},
   "outputs": [],
   "source": [
    "# from sklearn.linear_model import LinearRegression\n",
    "# dtregressor=LinearRegression()\n",
    "# dtregressor.fit(X_train,Y_train)"
   ]
  },
  {
   "cell_type": "code",
   "execution_count": 34,
   "metadata": {},
   "outputs": [
    {
     "ename": "NameError",
     "evalue": "name 'X_train' is not defined",
     "output_type": "error",
     "traceback": [
      "\u001b[0;31m---------------------------------------------------------------------------\u001b[0m",
      "\u001b[0;31mNameError\u001b[0m                                 Traceback (most recent call last)",
      "\u001b[0;32m<ipython-input-34-5d84b44fd94c>\u001b[0m in \u001b[0;36m<module>\u001b[0;34m\u001b[0m\n\u001b[1;32m      3\u001b[0m \u001b[0;31m# dtregressor=DecisionTreeRegressor()\u001b[0m\u001b[0;34m\u001b[0m\u001b[0;34m\u001b[0m\u001b[0;34m\u001b[0m\u001b[0m\n\u001b[1;32m      4\u001b[0m \u001b[0mdtregressor\u001b[0m\u001b[0;34m=\u001b[0m  \u001b[0mRandomForestRegressor\u001b[0m\u001b[0;34m(\u001b[0m\u001b[0;34m)\u001b[0m\u001b[0;34m\u001b[0m\u001b[0;34m\u001b[0m\u001b[0m\n\u001b[0;32m----> 5\u001b[0;31m \u001b[0mdtregressor\u001b[0m\u001b[0;34m.\u001b[0m\u001b[0mfit\u001b[0m\u001b[0;34m(\u001b[0m\u001b[0mX_train\u001b[0m\u001b[0;34m,\u001b[0m\u001b[0mY_train\u001b[0m\u001b[0;34m)\u001b[0m\u001b[0;34m\u001b[0m\u001b[0;34m\u001b[0m\u001b[0m\n\u001b[0m",
      "\u001b[0;31mNameError\u001b[0m: name 'X_train' is not defined"
     ]
    }
   ],
   "source": [
    "# # from sklearn.tree import DecisionTreeRegressor\n",
    "from sklearn.ensemble import RandomForestRegressor\n",
    "# dtregressor=DecisionTreeRegressor()\n",
    "dtregressor=  RandomForestRegressor()\n",
    "dtregressor.fit(X_train,Y_train)"
   ]
  },
  {
   "cell_type": "markdown",
   "metadata": {},
   "source": [
    "lock down announced on 24 march 2020"
   ]
  },
  {
   "cell_type": "code",
   "execution_count": 35,
   "metadata": {},
   "outputs": [],
   "source": [
    "# city_day_pre = city_day[city_day.Date < '2020-03-24 00:00:00']\n",
    "# city_day_post = city_day[city_day.Date >= '2020-03-24 00:00:00']"
   ]
  },
  {
   "cell_type": "code",
   "execution_count": 36,
   "metadata": {},
   "outputs": [],
   "source": [
    "# X_train_post,Y_train_post = CreateDataset(city_data_post,Pollutant,n_past)"
   ]
  },
  {
   "cell_type": "code",
   "execution_count": null,
   "metadata": {},
   "outputs": [],
   "source": []
  },
  {
   "cell_type": "code",
   "execution_count": 37,
   "metadata": {},
   "outputs": [],
   "source": [
    "# def Training(X_train,Y_train):\n",
    "#     dtregressor.fit(X_train,Y_train)\n",
    "#     return dtregressor"
   ]
  },
  {
   "cell_type": "code",
   "execution_count": 38,
   "metadata": {},
   "outputs": [],
   "source": [
    "# def Prediction(df,n_past,n):\n",
    "#     length = len(df)\n",
    "#     y_pred_city = np.zeros((n,12))\n",
    "#     pollutants= ['PM2.5','PM10','NO','NO2','NOx','CO','SO2','O3','Benzene','Toluene','Xylene','AQI']\n",
    "#     for i in pollutants:\n",
    "        \n",
    "#         # training data for ith pollutanst\n",
    "#         X_train,Y_train = CreateDataset(city_data,i,n_past)\n",
    "#         dtregressor = Training(X_train,Y_train)\n",
    "#         x_input = df[i][:-n_past].values\n",
    "#         y_pred = output(x_input,n_past,n,dtregressor)\n",
    "#         y_pred_city[:,i] = y_pred\n",
    "#     return y_pred_city\n",
    "\n",
    "# # returning predicted values for all pollutants for ith city"
   ]
  },
  {
   "cell_type": "code",
   "execution_count": 39,
   "metadata": {},
   "outputs": [],
   "source": [
    "# # main code  \n",
    "# final_pred = pd.Series(columns= ['City','PM2.5','PM10','NO','NO2','NOx','CO','SO2','O3','Benzene','Toluene','Xylene','AQI'])\n",
    "# for i in n_city:\n",
    "#     temp = city_day_pre[city_day_pre[\"City\"]==i]\n",
    "#     y_pred_city = Prediction(temp,n_past,n)\n",
    "#     y_pred_city = pd.DataFrame(y_pred_city)\n",
    "# #     final_pred['City'] = i\n",
    "#     # append this into a new data set for every city \n",
    "#     final_pred = pd.concat([final_pred, Y_pred_city], ignore_index=True, sort=False)"
   ]
  },
  {
   "cell_type": "code",
   "execution_count": 40,
   "metadata": {},
   "outputs": [],
   "source": [
    "# # main code  \n",
    "# pollutants= ['PM2.5','PM10','NO','NO2','NOx','CO','SO2','O3','Benzene','Toluene','Xylene','AQI']\n",
    "# final_pred = pd.Series(columns= ['City','PM2.5','PM10','NO','NO2','NOx','CO','SO2','O3','Benzene','Toluene','Xylene','AQI'])\n",
    "# for i in pollutants:\n",
    "        \n",
    "#     # training data for ith pollutanst\n",
    "#     X_train,Y_train = CreateDataset(city_data[i],i,n_past)\n",
    "#     dtregressor = Training(X_train,Y_train)\n",
    "    \n",
    "#     for i in n_city:\n",
    "        \n",
    "#         temp = city_day[city_day[\"City\"]==i]\n",
    "#         y_pred_city = Prediction(temp,n_past,n)\n",
    "#         y_pred_city = pd.DataFrame(y_pred_city)\n",
    "        \n",
    "#         X_train,Y_train = CreateDataset(city_data,i,n_past)\n",
    "#         dtregressor = Training(X_train,Y_train)\n",
    "#         x_input = df[i][:-n_past].values\n",
    "#         y_pred = output(x_input,n_past,n,dtregressor)\n",
    "#         y_pred_city[:,i] = y_pred"
   ]
  },
  {
   "cell_type": "code",
   "execution_count": null,
   "metadata": {},
   "outputs": [],
   "source": []
  },
  {
   "cell_type": "code",
   "execution_count": 41,
   "metadata": {},
   "outputs": [
    {
     "ename": "IndentationError",
     "evalue": "unexpected indent (<ipython-input-41-d44594d96ea2>, line 4)",
     "output_type": "error",
     "traceback": [
      "\u001b[0;36m  File \u001b[0;32m\"<ipython-input-41-d44594d96ea2>\"\u001b[0;36m, line \u001b[0;32m4\u001b[0m\n\u001b[0;31m    for i in range(len(df)-n_past):\u001b[0m\n\u001b[0m    ^\u001b[0m\n\u001b[0;31mIndentationError\u001b[0m\u001b[0;31m:\u001b[0m unexpected indent\n"
     ]
    }
   ],
   "source": [
    "def CreateDataset(df,n_past):\n",
    "    X_train = []\n",
    "    Y_train = []\n",
    "        for i in range(len(df)-n_past):\n",
    "        X_train.append(df[i:i+7].values)\n",
    "        Y_train.append(df[i+n_past:i+n_past+1].values)\n",
    "    #converting to dataframe\n",
    "    X_train_df = pd.DataFrame(X_train)\n",
    "    Y_train_df = pd.DataFrame(Y_train)\n",
    "    X_train = X_train_df.values\n",
    "    Y_train = Y_train_df.values\n",
    "return X_train,Y_train"
   ]
  },
  {
   "cell_type": "code",
   "execution_count": 42,
   "metadata": {},
   "outputs": [
    {
     "ename": "SyntaxError",
     "evalue": "invalid syntax (<ipython-input-42-6d8b563141e0>, line 2)",
     "output_type": "error",
     "traceback": [
      "\u001b[0;36m  File \u001b[0;32m\"<ipython-input-42-6d8b563141e0>\"\u001b[0;36m, line \u001b[0;32m2\u001b[0m\n\u001b[0;31m    def output(x_input,n_past,n,dtregressor)\u001b[0m\n\u001b[0m                                            ^\u001b[0m\n\u001b[0;31mSyntaxError\u001b[0m\u001b[0;31m:\u001b[0m invalid syntax\n"
     ]
    }
   ],
   "source": [
    "# Predicting next n days\n",
    "def output(x_input,n_past,n,dtregressor)\n",
    "\n",
    "    n_future = 1\n",
    "    # x_input = city_day_ahm[\"AQI\"][X_train.shape[0] : X_train.shape[0]+ 7].values \n",
    "    x_input = x_input.reshape((1,7))              # reshape for applying model\n",
    "    output=[]\n",
    "    i=0\n",
    "    while(i<n):\n",
    "\n",
    "\n",
    "        yhat = dtregressor.predict(x_input)      # yhat calulate\n",
    "\n",
    "\n",
    "\n",
    "        output.append(yhat[0])                 # append to output\n",
    "\n",
    "        x_input = np.append(x_input,yhat[0])\n",
    "\n",
    "\n",
    "        x_input = x_input[1:]\n",
    "\n",
    "        x_input = x_input.reshape((1,7))\n",
    "\n",
    "\n",
    "        i = i+1\n",
    "    return output"
   ]
  },
  {
   "cell_type": "code",
   "execution_count": 43,
   "metadata": {},
   "outputs": [
    {
     "ename": "SyntaxError",
     "evalue": "invalid syntax (<ipython-input-43-41c7b901c3db>, line 19)",
     "output_type": "error",
     "traceback": [
      "\u001b[0;36m  File \u001b[0;32m\"<ipython-input-43-41c7b901c3db>\"\u001b[0;36m, line \u001b[0;32m19\u001b[0m\n\u001b[0;31m    x_input = temp[i][;,-n_past]\u001b[0m\n\u001b[0m                      ^\u001b[0m\n\u001b[0;31mSyntaxError\u001b[0m\u001b[0;31m:\u001b[0m invalid syntax\n"
     ]
    }
   ],
   "source": [
    "n = 100\n",
    "n_past = 7\n",
    "pollutants= ['PM2.5','PM10','NO','NO2','NOx','CO','SO2','O3','Benzene','Toluene','Xylene','AQI']\n",
    "\n",
    "#final_data =  \n",
    "    \n",
    "for i in pollutants:\n",
    "    \n",
    "    X_train,Y_train = CreateDataset(city_data[i],n_past)\n",
    "    dtregressor.fit(X_train,Y_train)\n",
    "    \n",
    "    everycity_pollutant = []\n",
    "    \n",
    "    for j in n_city:\n",
    "        \n",
    "        temp = city_data[city_data[\"City\"]==j]\n",
    "        length = len(temp)\n",
    "        \n",
    "        x_input = temp[i][;,-n_past]\n",
    "        \n",
    "        y_pred = output(x_input,n_past,n,dtregressor)\n",
    "        \n",
    "        y_pred = np.array(y_pred)\n",
    "        \n",
    "        # evercity_pollutant append y_pred\n",
    "        \n",
    "    #final_data append everycity_pollutant\n",
    "        "
   ]
  },
  {
   "cell_type": "code",
   "execution_count": null,
   "metadata": {},
   "outputs": [],
   "source": []
  },
  {
   "cell_type": "code",
   "execution_count": null,
   "metadata": {},
   "outputs": [],
   "source": []
  },
  {
   "cell_type": "code",
   "execution_count": null,
   "metadata": {},
   "outputs": [],
   "source": []
  },
  {
   "cell_type": "code",
   "execution_count": null,
   "metadata": {},
   "outputs": [],
   "source": []
  },
  {
   "cell_type": "code",
   "execution_count": null,
   "metadata": {},
   "outputs": [],
   "source": []
  },
  {
   "cell_type": "code",
   "execution_count": null,
   "metadata": {},
   "outputs": [],
   "source": []
  },
  {
   "cell_type": "code",
   "execution_count": null,
   "metadata": {},
   "outputs": [],
   "source": []
  },
  {
   "cell_type": "code",
   "execution_count": null,
   "metadata": {},
   "outputs": [],
   "source": []
  },
  {
   "cell_type": "code",
   "execution_count": null,
   "metadata": {},
   "outputs": [],
   "source": []
  },
  {
   "cell_type": "code",
   "execution_count": null,
   "metadata": {},
   "outputs": [],
   "source": []
  },
  {
   "cell_type": "code",
   "execution_count": null,
   "metadata": {},
   "outputs": [],
   "source": []
  },
  {
   "cell_type": "code",
   "execution_count": null,
   "metadata": {},
   "outputs": [],
   "source": []
  },
  {
   "cell_type": "code",
   "execution_count": null,
   "metadata": {},
   "outputs": [],
   "source": []
  },
  {
   "cell_type": "code",
   "execution_count": null,
   "metadata": {},
   "outputs": [],
   "source": []
  },
  {
   "cell_type": "code",
   "execution_count": null,
   "metadata": {},
   "outputs": [],
   "source": []
  },
  {
   "cell_type": "code",
   "execution_count": null,
   "metadata": {},
   "outputs": [],
   "source": []
  }
 ],
 "metadata": {
  "kernelspec": {
   "display_name": "Python 3",
   "language": "python",
   "name": "python3"
  },
  "language_info": {
   "codemirror_mode": {
    "name": "ipython",
    "version": 3
   },
   "file_extension": ".py",
   "mimetype": "text/x-python",
   "name": "python",
   "nbconvert_exporter": "python",
   "pygments_lexer": "ipython3",
   "version": "3.7.6"
  }
 },
 "nbformat": 4,
 "nbformat_minor": 4
}
