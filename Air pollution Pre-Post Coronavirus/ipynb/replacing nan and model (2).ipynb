{
 "cells": [
  {
   "cell_type": "code",
   "execution_count": 1,
   "metadata": {},
   "outputs": [],
   "source": [
    "import numpy as np\n",
    "import pandas as pd\n",
    "# Warnings\n",
    "import warnings\n",
    "warnings.filterwarnings('ignore')\n",
    "import math"
   ]
  },
  {
   "cell_type": "code",
   "execution_count": 2,
   "metadata": {},
   "outputs": [],
   "source": [
    "city_day = pd.read_csv(\"city_day.csv\")"
   ]
  },
  {
   "cell_type": "code",
   "execution_count": 3,
   "metadata": {},
   "outputs": [],
   "source": [
    "city_day['Date'] =  pd.to_datetime(city_day['Date'],format='%Y-%m-%d')"
   ]
  },
  {
   "cell_type": "code",
   "execution_count": 4,
   "metadata": {},
   "outputs": [],
   "source": [
    "year = city_day['Date'].dt.year\n",
    "month = city_day['Date'].dt.month\n",
    "day = city_day['Date'].dt.day"
   ]
  },
  {
   "cell_type": "code",
   "execution_count": 5,
   "metadata": {},
   "outputs": [],
   "source": [
    "city_day.insert(loc=1, column='Year', value= year)\n",
    "city_day.insert(loc=2, column='Month', value= month)\n",
    "city_day.insert(loc=3, column='Date1', value= day)"
   ]
  },
  {
   "cell_type": "code",
   "execution_count": 6,
   "metadata": {},
   "outputs": [],
   "source": [
    "n_city = set(list(city_day[\"City\"]))"
   ]
  },
  {
   "cell_type": "code",
   "execution_count": 7,
   "metadata": {},
   "outputs": [],
   "source": [
    "n_city1 = city_day.City.unique()"
   ]
  },
  {
   "cell_type": "code",
   "execution_count": 8,
   "metadata": {},
   "outputs": [],
   "source": [
    "n_city1 = set(n_city1)"
   ]
  },
  {
   "cell_type": "code",
   "execution_count": 9,
   "metadata": {},
   "outputs": [
    {
     "data": {
      "text/plain": [
       "{'Ahmedabad',\n",
       " 'Aizawl',\n",
       " 'Amaravati',\n",
       " 'Amritsar',\n",
       " 'Bengaluru',\n",
       " 'Bhopal',\n",
       " 'Brajrajnagar',\n",
       " 'Chandigarh',\n",
       " 'Chennai',\n",
       " 'Delhi',\n",
       " 'Ernakulam',\n",
       " 'Gurugram',\n",
       " 'Guwahati',\n",
       " 'Hyderabad',\n",
       " 'Jaipur',\n",
       " 'Jorapokhar',\n",
       " 'Kochi',\n",
       " 'Kolkata',\n",
       " 'Lucknow',\n",
       " 'Mumbai',\n",
       " 'Patna',\n",
       " 'Shillong',\n",
       " 'Talcher',\n",
       " 'Thiruvananthapuram'}"
      ]
     },
     "execution_count": 9,
     "metadata": {},
     "output_type": "execute_result"
    }
   ],
   "source": [
    "n_city1"
   ]
  },
  {
   "cell_type": "code",
   "execution_count": 10,
   "metadata": {},
   "outputs": [],
   "source": [
    "b = [\"Thurs\",\"Fri\",\"Sat\",\"Sun\",\"Mon\",\"Tue\",\"Wed\"]\n",
    "c = len(list(city_day[\"NO2\"]))\n",
    "a = b * int(c/7) + b[:( c % 7 )] "
   ]
  },
  {
   "cell_type": "code",
   "execution_count": 11,
   "metadata": {},
   "outputs": [],
   "source": [
    "city_day[\"Day\"] = a"
   ]
  },
  {
   "cell_type": "code",
   "execution_count": 12,
   "metadata": {
    "scrolled": true
   },
   "outputs": [
    {
     "data": {
      "text/plain": [
       "City              0\n",
       "Year              0\n",
       "Month             0\n",
       "Date1             0\n",
       "Date              0\n",
       "PM2.5          4289\n",
       "PM10          10766\n",
       "NO             3233\n",
       "NO2            3217\n",
       "NOx            4043\n",
       "NH3            9847\n",
       "CO             1961\n",
       "SO2            3544\n",
       "O3             3660\n",
       "Benzene        5287\n",
       "Toluene        7555\n",
       "Xylene        16807\n",
       "AQI            4282\n",
       "AQI_Bucket     4282\n",
       "Day               0\n",
       "dtype: int64"
      ]
     },
     "execution_count": 12,
     "metadata": {},
     "output_type": "execute_result"
    }
   ],
   "source": [
    "city_day.isnull().sum()"
   ]
  },
  {
   "cell_type": "code",
   "execution_count": 13,
   "metadata": {},
   "outputs": [],
   "source": [
    "# from sklearn.linear_model import LinearRegression\n",
    "# dtregressor=LinearRegression()\n",
    "# # dtregressor.fit(X_train,Y_train)"
   ]
  },
  {
   "cell_type": "code",
   "execution_count": 14,
   "metadata": {},
   "outputs": [],
   "source": [
    "# from sklearn.tree import DecisionTreeRegressor\n",
    "from sklearn.ensemble import RandomForestRegressor\n",
    "# dtregressor=DecisionTreeRegressor()\n",
    "dtregressor=  RandomForestRegressor()\n",
    "# dtregressor.fit(X_train,Y_train)"
   ]
  },
  {
   "cell_type": "code",
   "execution_count": 15,
   "metadata": {},
   "outputs": [],
   "source": [
    "k = city_day.columns.values"
   ]
  },
  {
   "cell_type": "code",
   "execution_count": 16,
   "metadata": {},
   "outputs": [],
   "source": [
    "k = list(k)"
   ]
  },
  {
   "cell_type": "code",
   "execution_count": 17,
   "metadata": {},
   "outputs": [],
   "source": [
    "xyz = pd.DataFrame(columns=k) "
   ]
  },
  {
   "cell_type": "code",
   "execution_count": 18,
   "metadata": {},
   "outputs": [
    {
     "data": {
      "text/html": [
       "<div>\n",
       "<style scoped>\n",
       "    .dataframe tbody tr th:only-of-type {\n",
       "        vertical-align: middle;\n",
       "    }\n",
       "\n",
       "    .dataframe tbody tr th {\n",
       "        vertical-align: top;\n",
       "    }\n",
       "\n",
       "    .dataframe thead th {\n",
       "        text-align: right;\n",
       "    }\n",
       "</style>\n",
       "<table border=\"1\" class=\"dataframe\">\n",
       "  <thead>\n",
       "    <tr style=\"text-align: right;\">\n",
       "      <th></th>\n",
       "      <th>City</th>\n",
       "      <th>Year</th>\n",
       "      <th>Month</th>\n",
       "      <th>Date1</th>\n",
       "      <th>Date</th>\n",
       "      <th>PM2.5</th>\n",
       "      <th>PM10</th>\n",
       "      <th>NO</th>\n",
       "      <th>NO2</th>\n",
       "      <th>NOx</th>\n",
       "      <th>NH3</th>\n",
       "      <th>CO</th>\n",
       "      <th>SO2</th>\n",
       "      <th>O3</th>\n",
       "      <th>Benzene</th>\n",
       "      <th>Toluene</th>\n",
       "      <th>Xylene</th>\n",
       "      <th>AQI</th>\n",
       "      <th>AQI_Bucket</th>\n",
       "      <th>Day</th>\n",
       "    </tr>\n",
       "  </thead>\n",
       "  <tbody>\n",
       "  </tbody>\n",
       "</table>\n",
       "</div>"
      ],
      "text/plain": [
       "Empty DataFrame\n",
       "Columns: [City, Year, Month, Date1, Date, PM2.5, PM10, NO, NO2, NOx, NH3, CO, SO2, O3, Benzene, Toluene, Xylene, AQI, AQI_Bucket, Day]\n",
       "Index: []"
      ]
     },
     "execution_count": 18,
     "metadata": {},
     "output_type": "execute_result"
    }
   ],
   "source": [
    "xyz"
   ]
  },
  {
   "cell_type": "code",
   "execution_count": 19,
   "metadata": {},
   "outputs": [],
   "source": [
    "pollutants = ['PM2.5','PM10','NO','NO2','NOx','NH3','CO','SO2','O3','Benzene','Toluene','Xylene','AQI']"
   ]
  },
  {
   "cell_type": "code",
   "execution_count": 20,
   "metadata": {},
   "outputs": [],
   "source": [
    "# replacing nan values\n",
    "x = city_day.groupby(['Month'])['PM2.5','PM10','NO','NO2','NOx','NH3','CO','SO2','O3','Benzene','Toluene','Xylene','AQI'].mean()"
   ]
  },
  {
   "cell_type": "code",
   "execution_count": 21,
   "metadata": {},
   "outputs": [
    {
     "data": {
      "text/html": [
       "<div>\n",
       "<style scoped>\n",
       "    .dataframe tbody tr th:only-of-type {\n",
       "        vertical-align: middle;\n",
       "    }\n",
       "\n",
       "    .dataframe tbody tr th {\n",
       "        vertical-align: top;\n",
       "    }\n",
       "\n",
       "    .dataframe thead th {\n",
       "        text-align: right;\n",
       "    }\n",
       "</style>\n",
       "<table border=\"1\" class=\"dataframe\">\n",
       "  <thead>\n",
       "    <tr style=\"text-align: right;\">\n",
       "      <th></th>\n",
       "      <th>PM2.5</th>\n",
       "      <th>PM10</th>\n",
       "      <th>NO</th>\n",
       "      <th>NO2</th>\n",
       "      <th>NOx</th>\n",
       "      <th>NH3</th>\n",
       "      <th>CO</th>\n",
       "      <th>SO2</th>\n",
       "      <th>O3</th>\n",
       "      <th>Benzene</th>\n",
       "      <th>Toluene</th>\n",
       "      <th>Xylene</th>\n",
       "      <th>AQI</th>\n",
       "    </tr>\n",
       "    <tr>\n",
       "      <th>Month</th>\n",
       "      <th></th>\n",
       "      <th></th>\n",
       "      <th></th>\n",
       "      <th></th>\n",
       "      <th></th>\n",
       "      <th></th>\n",
       "      <th></th>\n",
       "      <th></th>\n",
       "      <th></th>\n",
       "      <th></th>\n",
       "      <th></th>\n",
       "      <th></th>\n",
       "      <th></th>\n",
       "    </tr>\n",
       "  </thead>\n",
       "  <tbody>\n",
       "    <tr>\n",
       "      <th>1</th>\n",
       "      <td>110.218812</td>\n",
       "      <td>169.238787</td>\n",
       "      <td>25.263591</td>\n",
       "      <td>35.737643</td>\n",
       "      <td>44.118304</td>\n",
       "      <td>31.672565</td>\n",
       "      <td>3.179774</td>\n",
       "      <td>18.279856</td>\n",
       "      <td>35.666336</td>\n",
       "      <td>4.200882</td>\n",
       "      <td>10.896067</td>\n",
       "      <td>2.610621</td>\n",
       "      <td>236.681225</td>\n",
       "    </tr>\n",
       "    <tr>\n",
       "      <th>2</th>\n",
       "      <td>84.636159</td>\n",
       "      <td>150.230649</td>\n",
       "      <td>22.504201</td>\n",
       "      <td>33.856603</td>\n",
       "      <td>41.508787</td>\n",
       "      <td>26.896001</td>\n",
       "      <td>3.045321</td>\n",
       "      <td>17.222922</td>\n",
       "      <td>37.958493</td>\n",
       "      <td>3.870187</td>\n",
       "      <td>9.062813</td>\n",
       "      <td>2.283562</td>\n",
       "      <td>207.976289</td>\n",
       "    </tr>\n",
       "    <tr>\n",
       "      <th>3</th>\n",
       "      <td>65.741265</td>\n",
       "      <td>119.660716</td>\n",
       "      <td>17.235198</td>\n",
       "      <td>27.116562</td>\n",
       "      <td>32.439365</td>\n",
       "      <td>22.787979</td>\n",
       "      <td>2.283967</td>\n",
       "      <td>15.924207</td>\n",
       "      <td>39.133918</td>\n",
       "      <td>6.175549</td>\n",
       "      <td>11.244044</td>\n",
       "      <td>2.556863</td>\n",
       "      <td>168.919030</td>\n",
       "    </tr>\n",
       "    <tr>\n",
       "      <th>4</th>\n",
       "      <td>54.284417</td>\n",
       "      <td>108.842394</td>\n",
       "      <td>14.610669</td>\n",
       "      <td>23.796219</td>\n",
       "      <td>25.240553</td>\n",
       "      <td>21.433088</td>\n",
       "      <td>1.740944</td>\n",
       "      <td>14.489759</td>\n",
       "      <td>40.273183</td>\n",
       "      <td>2.041667</td>\n",
       "      <td>5.660139</td>\n",
       "      <td>1.845396</td>\n",
       "      <td>146.602658</td>\n",
       "    </tr>\n",
       "    <tr>\n",
       "      <th>5</th>\n",
       "      <td>63.241637</td>\n",
       "      <td>129.845762</td>\n",
       "      <td>12.632373</td>\n",
       "      <td>26.200676</td>\n",
       "      <td>25.514083</td>\n",
       "      <td>24.392496</td>\n",
       "      <td>1.746670</td>\n",
       "      <td>16.274834</td>\n",
       "      <td>41.981482</td>\n",
       "      <td>2.299014</td>\n",
       "      <td>8.398437</td>\n",
       "      <td>3.948871</td>\n",
       "      <td>159.107362</td>\n",
       "    </tr>\n",
       "    <tr>\n",
       "      <th>6</th>\n",
       "      <td>52.513570</td>\n",
       "      <td>103.034779</td>\n",
       "      <td>11.278562</td>\n",
       "      <td>24.509360</td>\n",
       "      <td>23.884092</td>\n",
       "      <td>22.532284</td>\n",
       "      <td>1.963390</td>\n",
       "      <td>12.271553</td>\n",
       "      <td>34.298541</td>\n",
       "      <td>2.292245</td>\n",
       "      <td>8.111926</td>\n",
       "      <td>3.413067</td>\n",
       "      <td>142.443071</td>\n",
       "    </tr>\n",
       "    <tr>\n",
       "      <th>7</th>\n",
       "      <td>38.365968</td>\n",
       "      <td>70.422140</td>\n",
       "      <td>11.942689</td>\n",
       "      <td>20.606825</td>\n",
       "      <td>24.644194</td>\n",
       "      <td>21.798759</td>\n",
       "      <td>2.345430</td>\n",
       "      <td>11.465207</td>\n",
       "      <td>23.996914</td>\n",
       "      <td>1.614260</td>\n",
       "      <td>6.771222</td>\n",
       "      <td>2.177076</td>\n",
       "      <td>113.941901</td>\n",
       "    </tr>\n",
       "    <tr>\n",
       "      <th>8</th>\n",
       "      <td>34.007565</td>\n",
       "      <td>68.587759</td>\n",
       "      <td>11.957165</td>\n",
       "      <td>20.167571</td>\n",
       "      <td>24.984957</td>\n",
       "      <td>19.589807</td>\n",
       "      <td>2.522925</td>\n",
       "      <td>11.765161</td>\n",
       "      <td>22.768532</td>\n",
       "      <td>2.400192</td>\n",
       "      <td>7.065266</td>\n",
       "      <td>2.763010</td>\n",
       "      <td>115.173653</td>\n",
       "    </tr>\n",
       "    <tr>\n",
       "      <th>9</th>\n",
       "      <td>38.397961</td>\n",
       "      <td>74.509337</td>\n",
       "      <td>12.695933</td>\n",
       "      <td>23.631376</td>\n",
       "      <td>25.185834</td>\n",
       "      <td>19.354101</td>\n",
       "      <td>2.175551</td>\n",
       "      <td>10.833674</td>\n",
       "      <td>26.058911</td>\n",
       "      <td>1.814903</td>\n",
       "      <td>6.611931</td>\n",
       "      <td>3.879178</td>\n",
       "      <td>116.744836</td>\n",
       "    </tr>\n",
       "    <tr>\n",
       "      <th>10</th>\n",
       "      <td>77.197418</td>\n",
       "      <td>129.411941</td>\n",
       "      <td>21.763207</td>\n",
       "      <td>33.122291</td>\n",
       "      <td>38.019340</td>\n",
       "      <td>25.418635</td>\n",
       "      <td>2.858554</td>\n",
       "      <td>14.799681</td>\n",
       "      <td>34.508268</td>\n",
       "      <td>2.816949</td>\n",
       "      <td>9.741482</td>\n",
       "      <td>4.399727</td>\n",
       "      <td>193.588169</td>\n",
       "    </tr>\n",
       "    <tr>\n",
       "      <th>11</th>\n",
       "      <td>115.058922</td>\n",
       "      <td>174.413611</td>\n",
       "      <td>27.701154</td>\n",
       "      <td>39.654732</td>\n",
       "      <td>47.759357</td>\n",
       "      <td>30.971749</td>\n",
       "      <td>3.074875</td>\n",
       "      <td>18.434010</td>\n",
       "      <td>37.898656</td>\n",
       "      <td>3.793406</td>\n",
       "      <td>12.396291</td>\n",
       "      <td>5.050979</td>\n",
       "      <td>251.531702</td>\n",
       "    </tr>\n",
       "    <tr>\n",
       "      <th>12</th>\n",
       "      <td>113.902174</td>\n",
       "      <td>169.309049</td>\n",
       "      <td>25.520429</td>\n",
       "      <td>37.083211</td>\n",
       "      <td>44.637842</td>\n",
       "      <td>33.908435</td>\n",
       "      <td>2.325472</td>\n",
       "      <td>16.373401</td>\n",
       "      <td>33.730265</td>\n",
       "      <td>5.044284</td>\n",
       "      <td>11.360802</td>\n",
       "      <td>3.576620</td>\n",
       "      <td>234.695258</td>\n",
       "    </tr>\n",
       "  </tbody>\n",
       "</table>\n",
       "</div>"
      ],
      "text/plain": [
       "            PM2.5        PM10         NO        NO2        NOx        NH3  \\\n",
       "Month                                                                       \n",
       "1      110.218812  169.238787  25.263591  35.737643  44.118304  31.672565   \n",
       "2       84.636159  150.230649  22.504201  33.856603  41.508787  26.896001   \n",
       "3       65.741265  119.660716  17.235198  27.116562  32.439365  22.787979   \n",
       "4       54.284417  108.842394  14.610669  23.796219  25.240553  21.433088   \n",
       "5       63.241637  129.845762  12.632373  26.200676  25.514083  24.392496   \n",
       "6       52.513570  103.034779  11.278562  24.509360  23.884092  22.532284   \n",
       "7       38.365968   70.422140  11.942689  20.606825  24.644194  21.798759   \n",
       "8       34.007565   68.587759  11.957165  20.167571  24.984957  19.589807   \n",
       "9       38.397961   74.509337  12.695933  23.631376  25.185834  19.354101   \n",
       "10      77.197418  129.411941  21.763207  33.122291  38.019340  25.418635   \n",
       "11     115.058922  174.413611  27.701154  39.654732  47.759357  30.971749   \n",
       "12     113.902174  169.309049  25.520429  37.083211  44.637842  33.908435   \n",
       "\n",
       "             CO        SO2         O3   Benzene    Toluene    Xylene  \\\n",
       "Month                                                                  \n",
       "1      3.179774  18.279856  35.666336  4.200882  10.896067  2.610621   \n",
       "2      3.045321  17.222922  37.958493  3.870187   9.062813  2.283562   \n",
       "3      2.283967  15.924207  39.133918  6.175549  11.244044  2.556863   \n",
       "4      1.740944  14.489759  40.273183  2.041667   5.660139  1.845396   \n",
       "5      1.746670  16.274834  41.981482  2.299014   8.398437  3.948871   \n",
       "6      1.963390  12.271553  34.298541  2.292245   8.111926  3.413067   \n",
       "7      2.345430  11.465207  23.996914  1.614260   6.771222  2.177076   \n",
       "8      2.522925  11.765161  22.768532  2.400192   7.065266  2.763010   \n",
       "9      2.175551  10.833674  26.058911  1.814903   6.611931  3.879178   \n",
       "10     2.858554  14.799681  34.508268  2.816949   9.741482  4.399727   \n",
       "11     3.074875  18.434010  37.898656  3.793406  12.396291  5.050979   \n",
       "12     2.325472  16.373401  33.730265  5.044284  11.360802  3.576620   \n",
       "\n",
       "              AQI  \n",
       "Month              \n",
       "1      236.681225  \n",
       "2      207.976289  \n",
       "3      168.919030  \n",
       "4      146.602658  \n",
       "5      159.107362  \n",
       "6      142.443071  \n",
       "7      113.941901  \n",
       "8      115.173653  \n",
       "9      116.744836  \n",
       "10     193.588169  \n",
       "11     251.531702  \n",
       "12     234.695258  "
      ]
     },
     "execution_count": 21,
     "metadata": {},
     "output_type": "execute_result"
    }
   ],
   "source": [
    "x"
   ]
  },
  {
   "cell_type": "code",
   "execution_count": 22,
   "metadata": {},
   "outputs": [],
   "source": [
    "y = x.values"
   ]
  },
  {
   "cell_type": "code",
   "execution_count": 23,
   "metadata": {},
   "outputs": [],
   "source": [
    "# y[0][0]"
   ]
  },
  {
   "cell_type": "code",
   "execution_count": 24,
   "metadata": {},
   "outputs": [],
   "source": [
    "# dict = {}\n",
    "# for i in range(5,18):\n",
    "#     dict[i] = pollutants[i-5]"
   ]
  },
  {
   "cell_type": "code",
   "execution_count": 25,
   "metadata": {},
   "outputs": [],
   "source": [
    "# dict"
   ]
  },
  {
   "cell_type": "code",
   "execution_count": 26,
   "metadata": {},
   "outputs": [],
   "source": [
    "city_day = city_day.drop(['AQI_Bucket'],axis = 1)"
   ]
  },
  {
   "cell_type": "code",
   "execution_count": 27,
   "metadata": {},
   "outputs": [],
   "source": [
    "\n",
    "# Replacing AQI values with monthly average\n",
    "\n",
    "for i in range(len(city_day)):\n",
    "    for j in range(5,18):\n",
    "        if pd.isna(city_day.iloc[i,j]):\n",
    "            \n",
    "            m = city_day[\"Month\"][i]\n",
    "        \n",
    "            city_day.iloc[i,j] = y[m-1][j-5]"
   ]
  },
  {
   "cell_type": "code",
   "execution_count": 28,
   "metadata": {},
   "outputs": [
    {
     "data": {
      "text/plain": [
       "City       0\n",
       "Year       0\n",
       "Month      0\n",
       "Date1      0\n",
       "Date       0\n",
       "PM2.5      0\n",
       "PM10       0\n",
       "NO         0\n",
       "NO2        0\n",
       "NOx        0\n",
       "NH3        0\n",
       "CO         0\n",
       "SO2        0\n",
       "O3         0\n",
       "Benzene    0\n",
       "Toluene    0\n",
       "Xylene     0\n",
       "AQI        0\n",
       "Day        0\n",
       "dtype: int64"
      ]
     },
     "execution_count": 28,
     "metadata": {},
     "output_type": "execute_result"
    }
   ],
   "source": [
    "city_day.isnull().sum()"
   ]
  },
  {
   "cell_type": "markdown",
   "metadata": {},
   "source": [
    "lock down announced on 24 march 2020"
   ]
  },
  {
   "cell_type": "code",
   "execution_count": 29,
   "metadata": {},
   "outputs": [],
   "source": [
    "# city_day_pre = city_day[city_day.Date < '2020-03-24 00:00:00']\n",
    "# city_day_post = city_day[city_day.Date >= '2020-03-24 00:00:00']"
   ]
  },
  {
   "cell_type": "code",
   "execution_count": 30,
   "metadata": {},
   "outputs": [],
   "source": [
    "def CreateDataset(df,n_past):\n",
    "    X_train = []\n",
    "    Y_train = []\n",
    "    for i in range(len(df)-n_past):\n",
    "        X_train.append(df[i:i+7].values)\n",
    "        Y_train.append(df[i+n_past:i+n_past+1].values)\n",
    "    #converting to dataframe\n",
    "    X_train_df = pd.DataFrame(X_train)\n",
    "    Y_train_df = pd.DataFrame(Y_train)\n",
    "    X_train = X_train_df.values\n",
    "    Y_train = Y_train_df.values\n",
    "    \n",
    "    return X_train,Y_train"
   ]
  },
  {
   "cell_type": "code",
   "execution_count": 31,
   "metadata": {},
   "outputs": [],
   "source": [
    "# Predicting next n days\n",
    "def output(x_input,n_past,n,dtregressor):\n",
    "\n",
    "    n_future = 1\n",
    "    # x_input = city_day_ahm[\"AQI\"][X_train.shape[0] : X_train.shape[0]+ 7].values \n",
    "    x_input = x_input.values\n",
    "    x_input = x_input.reshape((1,7))              # reshape for applying model\n",
    "    output=[]\n",
    "    i=0\n",
    "    while(i<n):\n",
    "\n",
    "\n",
    "        yhat = dtregressor.predict(x_input)      # yhat calulate\n",
    "\n",
    "\n",
    "\n",
    "        output.append(yhat[0])                 # append to output\n",
    "\n",
    "        x_input = np.append(x_input,yhat[0])\n",
    "\n",
    "\n",
    "        x_input = x_input[1:]\n",
    "\n",
    "        x_input = x_input.reshape((1,7))\n",
    "\n",
    "\n",
    "        i = i+1\n",
    "    return output"
   ]
  },
  {
   "cell_type": "code",
   "execution_count": 33,
   "metadata": {},
   "outputs": [
    {
     "ename": "AttributeError",
     "evalue": "'list' object has no attribute 'shape'",
     "output_type": "error",
     "traceback": [
      "\u001b[0;31m---------------------------------------------------------------------------\u001b[0m",
      "\u001b[0;31mAttributeError\u001b[0m                            Traceback (most recent call last)",
      "\u001b[0;32m<ipython-input-33-4c8dd9d84759>\u001b[0m in \u001b[0;36m<module>\u001b[0;34m\u001b[0m\n\u001b[1;32m     22\u001b[0m \u001b[0;34m\u001b[0m\u001b[0m\n\u001b[1;32m     23\u001b[0m         \u001b[0my_pred\u001b[0m \u001b[0;34m=\u001b[0m \u001b[0moutput\u001b[0m\u001b[0;34m(\u001b[0m\u001b[0mx_input\u001b[0m\u001b[0;34m,\u001b[0m\u001b[0mn_past\u001b[0m\u001b[0;34m,\u001b[0m\u001b[0mn\u001b[0m\u001b[0;34m,\u001b[0m\u001b[0mdtregressor\u001b[0m\u001b[0;34m)\u001b[0m\u001b[0;34m\u001b[0m\u001b[0;34m\u001b[0m\u001b[0m\n\u001b[0;32m---> 24\u001b[0;31m         \u001b[0mprint\u001b[0m\u001b[0;34m(\u001b[0m\u001b[0my_pred\u001b[0m\u001b[0;34m.\u001b[0m\u001b[0mshape\u001b[0m\u001b[0;34m)\u001b[0m\u001b[0;34m\u001b[0m\u001b[0;34m\u001b[0m\u001b[0m\n\u001b[0m\u001b[1;32m     25\u001b[0m         \u001b[0meverycity_pollutant\u001b[0m \u001b[0;34m=\u001b[0m \u001b[0meverycity_pollutant\u001b[0m \u001b[0;34m+\u001b[0m \u001b[0my_pred\u001b[0m\u001b[0;34m\u001b[0m\u001b[0;34m\u001b[0m\u001b[0m\n\u001b[1;32m     26\u001b[0m \u001b[0;34m\u001b[0m\u001b[0m\n",
      "\u001b[0;31mAttributeError\u001b[0m: 'list' object has no attribute 'shape'"
     ]
    }
   ],
   "source": [
    "n = 100\n",
    "n_past = 7\n",
    "pollutants= ['PM2.5','PM10','NO','NO2','NOx','NH3','CO','SO2','O3','Benzene','Toluene','Xylene','AQI']\n",
    "\n",
    "final_data = pd.DataFrame(columns=k) \n",
    "    \n",
    "for i in pollutants:\n",
    "    \n",
    "    X_train,Y_train = CreateDataset(city_day[i],n_past)\n",
    "    dtregressor.fit(X_train,Y_train)\n",
    "    \n",
    "    everycity_pollutant = []\n",
    "    c = 0\n",
    "    for j in n_city:\n",
    "            \n",
    "        \n",
    "        temp = city_day[city_day[\"City\"]==j]\n",
    "        \n",
    "        length = len(temp)\n",
    "        \n",
    "        x_input = temp[i][len(temp)-n_past:]\n",
    "        \n",
    "        y_pred = output(x_input,n_past,n,dtregressor)\n",
    "        print(y_pred.shape)\n",
    "        everycity_pollutant = everycity_pollutant + y_pred\n",
    "                \n",
    "    final_data[i] = everycity_pollutant"
   ]
  },
  {
   "cell_type": "code",
   "execution_count": null,
   "metadata": {},
   "outputs": [],
   "source": [
    "final_data"
   ]
  },
  {
   "cell_type": "code",
   "execution_count": null,
   "metadata": {},
   "outputs": [],
   "source": []
  }
 ],
 "metadata": {
  "kernelspec": {
   "display_name": "Python 3",
   "language": "python",
   "name": "python3"
  },
  "language_info": {
   "codemirror_mode": {
    "name": "ipython",
    "version": 3
   },
   "file_extension": ".py",
   "mimetype": "text/x-python",
   "name": "python",
   "nbconvert_exporter": "python",
   "pygments_lexer": "ipython3",
   "version": "3.7.6"
  }
 },
 "nbformat": 4,
 "nbformat_minor": 4
}
