{
 "cells": [
  {
   "cell_type": "code",
   "execution_count": 1,
   "metadata": {},
   "outputs": [],
   "source": [
    "import numpy as np\n",
    "import pandas as pd\n",
    "from array import array\n",
    "# Warnings\n",
    "import warnings\n",
    "warnings.filterwarnings('ignore')"
   ]
  },
  {
   "cell_type": "code",
   "execution_count": 2,
   "metadata": {},
   "outputs": [],
   "source": [
    "# Multiple Linear Regression\n",
    "import numpy as np\n",
    "import pandas as pd\n",
    "import seaborn as sns\n",
    "import matplotlib.pyplot as plt\n",
    "import os\n",
    "import warnings\n",
    "warnings.filterwarnings(\"ignore\")\n",
    "# Importing the libraries\n",
    "import numpy as np\n",
    "import matplotlib.pyplot as plt\n",
    "import pandas as pd\n",
    "from sklearn.metrics import mean_squared_error,r2_score\n",
    "from sklearn.model_selection import KFold\n",
    "from sklearn.model_selection import cross_val_score, cross_val_predict\n",
    "from sklearn import metrics\n",
    "from sklearn.model_selection import train_test_split\n",
    "import bisect\n",
    "from sklearn.model_selection import cross_val_score\n",
    "from sklearn.metrics import mean_squared_error\n",
    "from sklearn import metrics\n",
    "from sklearn import linear_model\n",
    "#     print('LinearRegression')\n",
    "from sklearn.preprocessing import PolynomialFeatures\n",
    "from sklearn.tree import DecisionTreeRegressor\n",
    "from sklearn.svm import SVR\n",
    "from sklearn.model_selection import cross_val_score\n",
    "from sklearn.model_selection import ShuffleSplit\n",
    "from sklearn.model_selection import cross_val_predict\n",
    "import numpy as np\n",
    "import matplotlib.pyplot as plt\n",
    "import pandas as pd\n",
    "from sklearn.metrics import mean_squared_error,r2_score\n",
    "from sklearn.model_selection import KFold\n",
    "from sklearn.model_selection import cross_val_score, cross_val_predict\n",
    "from sklearn import metrics\n",
    "from sklearn.model_selection import train_test_split\n",
    "from sklearn import metrics"
   ]
  },
  {
   "cell_type": "code",
   "execution_count": 3,
   "metadata": {},
   "outputs": [],
   "source": [
    "def model(regressor,X_train, X_test, y_train, y_test):\n",
    "    print(regressor)\n",
    "    model1 = regressor.fit(X_train,y_train)\n",
    "    print('train acc')\n",
    "    print(model1.score(X_train, y_train))\n",
    "    print('y_pred')\n",
    "    y_pred = model1.predict(X_test)\n",
    "    print('testing acc')\n",
    "    print(r2_score(y_test,y_pred))\n",
    "#     print('testing acc')\n",
    "#     df1=pd.DataFrame(y_pred,columns=['pred'])\n",
    "#     df1['actual']=X_test\n",
    "#     print(df1)\n",
    "#     print('\\n')\n",
    "def multi(X_train, X_test, y_train, y_test):\n",
    "\tfrom sklearn import linear_model\n",
    "\tregressor = linear_model.LinearRegression()\n",
    "\tmodel(regressor,X_train, X_test, y_train, y_test)\n",
    "def decision(X_train, X_test, y_train, y_test):\n",
    "\tfrom sklearn.tree import DecisionTreeRegressor\n",
    "\tregressor = DecisionTreeRegressor(random_state = 0)\n",
    "\tmodel(regressor,X_train, X_test, y_train, y_test)\n",
    "def random(X_train, X_test, y_train, y_test):\n",
    "\tfrom sklearn.ensemble import RandomForestRegressor\n",
    "\tregressor = RandomForestRegressor(n_estimators = 40, random_state = 0)\n",
    "\tmodel(regressor,X_train, X_test, y_train, y_test)\n",
    "def svr(X_train, X_test, y_train, y_test):\n",
    "\tfrom sklearn.svm import SVR\n",
    "\tregressor = SVR(kernel = 'rbf')\n",
    "\tmodel(regressor,X_train, X_test, y_train, y_test)\n",
    "def boost(X_train, X_test, y_train, y_test):\n",
    "\tfrom sklearn import ensemble\n",
    "\tparams = {\n",
    "    'n_estimators': 1,\n",
    "    'max_depth': 1,\n",
    "    'learning_rate': 1,\n",
    "    'criterion': 'mse'\n",
    "\t}\n",
    "\tregressor = ensemble.GradientBoostingRegressor(**params)\n",
    "\tmodel(regressor,X_train, X_test, y_train, y_test)\n",
    "def main(X_train, X_test, y_train, y_test):\n",
    "\tmulti(X_train, X_test, y_train, y_test)\n",
    "\tdecision(X_train, X_test, y_train, y_test)\n",
    "\trandom(X_train, X_test, y_train, y_test)\n",
    "# \tsvr(X_train, X_test, y_train, y_test)\t\n",
    "\tboost(X_train, X_test, y_train, y_test)"
   ]
  },
  {
   "cell_type": "code",
   "execution_count": 4,
   "metadata": {},
   "outputs": [],
   "source": [
    "city_day = pd.read_csv(\"city_day.csv\")"
   ]
  },
  {
   "cell_type": "code",
   "execution_count": 5,
   "metadata": {},
   "outputs": [],
   "source": [
    "city_day['Date'] =  pd.to_datetime(city_day['Date'],format='%Y-%m-%d')"
   ]
  },
  {
   "cell_type": "code",
   "execution_count": 6,
   "metadata": {},
   "outputs": [],
   "source": [
    "year = city_day['Date'].dt.year\n",
    "month = city_day['Date'].dt.month\n",
    "day = city_day['Date'].dt.day"
   ]
  },
  {
   "cell_type": "code",
   "execution_count": 7,
   "metadata": {},
   "outputs": [],
   "source": [
    "city_day.insert(loc=1, column='Year', value= year)\n",
    "city_day.insert(loc=2, column='Month', value= month)\n",
    "city_day.insert(loc=3, column='Date1', value= day)"
   ]
  },
  {
   "cell_type": "code",
   "execution_count": 8,
   "metadata": {},
   "outputs": [],
   "source": [
    "city_day_ahm = city_day"
   ]
  },
  {
   "cell_type": "code",
   "execution_count": 9,
   "metadata": {},
   "outputs": [],
   "source": [
    "# city_day_ahm = city_day[city_day[\"City\"]=='Ahmedabad']"
   ]
  },
  {
   "cell_type": "code",
   "execution_count": 10,
   "metadata": {},
   "outputs": [
    {
     "ename": "SyntaxError",
     "evalue": "invalid syntax (<ipython-input-10-06af816f75b2>, line 1)",
     "output_type": "error",
     "traceback": [
      "\u001b[1;36m  File \u001b[1;32m\"<ipython-input-10-06af816f75b2>\"\u001b[1;36m, line \u001b[1;32m1\u001b[0m\n\u001b[1;33m    city_day_ahm.\u001b[0m\n\u001b[1;37m                 ^\u001b[0m\n\u001b[1;31mSyntaxError\u001b[0m\u001b[1;31m:\u001b[0m invalid syntax\n"
     ]
    }
   ],
   "source": [
    "city_day_ahm."
   ]
  },
  {
   "cell_type": "code",
   "execution_count": 11,
   "metadata": {},
   "outputs": [],
   "source": [
    "city_day_ahm.to_csv(\"ahmedabad1.csv\")"
   ]
  },
  {
   "cell_type": "code",
   "execution_count": 12,
   "metadata": {},
   "outputs": [
    {
     "data": {
      "text/plain": [
       "20128"
      ]
     },
     "execution_count": 12,
     "metadata": {},
     "output_type": "execute_result"
    }
   ],
   "source": [
    "city_day_ahm.AQI.isnull().sum()"
   ]
  },
  {
   "cell_type": "code",
   "execution_count": 13,
   "metadata": {
    "scrolled": true
   },
   "outputs": [
    {
     "data": {
      "text/plain": [
       "2019    31811\n",
       "2018    25290\n",
       "2017    13090\n",
       "2020    12532\n",
       "2016     9606\n",
       "2015     7392\n",
       "Name: Year, dtype: int64"
      ]
     },
     "execution_count": 13,
     "metadata": {},
     "output_type": "execute_result"
    }
   ],
   "source": [
    "city_day_ahm.Year.value_counts()"
   ]
  },
  {
   "cell_type": "code",
   "execution_count": 14,
   "metadata": {},
   "outputs": [],
   "source": [
    "# city_day_1_ahm = city_day_ahm.dropna(axis=0, how=\"all\", subset=[\"PM2.5\",\"PM10\"], inplace=False)"
   ]
  },
  {
   "cell_type": "code",
   "execution_count": 15,
   "metadata": {},
   "outputs": [],
   "source": [
    "# city_day_1_ahm"
   ]
  },
  {
   "cell_type": "code",
   "execution_count": 16,
   "metadata": {},
   "outputs": [],
   "source": [
    "city_day_ahm_copy = city_day_ahm"
   ]
  },
  {
   "cell_type": "code",
   "execution_count": 17,
   "metadata": {},
   "outputs": [],
   "source": [
    "avg_aqi_month = city_day_ahm.groupby(['Month']).AQI.mean()"
   ]
  },
  {
   "cell_type": "code",
   "execution_count": 18,
   "metadata": {},
   "outputs": [],
   "source": [
    "avg_aqi_month = list(avg_aqi_month)"
   ]
  },
  {
   "cell_type": "code",
   "execution_count": 19,
   "metadata": {},
   "outputs": [
    {
     "data": {
      "text/plain": [
       "[255.15911528150133,\n",
       " 214.81691096634094,\n",
       " 162.46811915312654,\n",
       " 158.41673062164236,\n",
       " 187.92391713747645,\n",
       " 159.20813442810768,\n",
       " 110.65454545454546,\n",
       " 102.72196776929601,\n",
       " 106.86170035075997,\n",
       " 205.2069455406472,\n",
       " 272.2718197375927,\n",
       " 266.9148282602625]"
      ]
     },
     "execution_count": 19,
     "metadata": {},
     "output_type": "execute_result"
    }
   ],
   "source": [
    "avg_aqi_month"
   ]
  },
  {
   "cell_type": "code",
   "execution_count": 20,
   "metadata": {},
   "outputs": [],
   "source": [
    "# Replacing AQI values with monthly average\n",
    "\n",
    "# temp = city_day_ahm[\"AQI\"].fillna(avg_aqi_month[city_day_ahm.Month-1] ,inplace = False)\n",
    "\n",
    "for i in range(len(city_day_ahm)):\n",
    "    if pd.isna(city_day_ahm[\"AQI\"][i]):      \n",
    "        city_day_ahm[\"AQI\"][i] = avg_aqi_month[city_day_ahm[\"Month\"][i]-1]"
   ]
  },
  {
   "cell_type": "code",
   "execution_count": 21,
   "metadata": {},
   "outputs": [
    {
     "data": {
      "text/html": [
       "<div>\n",
       "<style scoped>\n",
       "    .dataframe tbody tr th:only-of-type {\n",
       "        vertical-align: middle;\n",
       "    }\n",
       "\n",
       "    .dataframe tbody tr th {\n",
       "        vertical-align: top;\n",
       "    }\n",
       "\n",
       "    .dataframe thead th {\n",
       "        text-align: right;\n",
       "    }\n",
       "</style>\n",
       "<table border=\"1\" class=\"dataframe\">\n",
       "  <thead>\n",
       "    <tr style=\"text-align: right;\">\n",
       "      <th></th>\n",
       "      <th>StationId</th>\n",
       "      <th>Year</th>\n",
       "      <th>Month</th>\n",
       "      <th>Date1</th>\n",
       "      <th>Date</th>\n",
       "      <th>PM2.5</th>\n",
       "      <th>PM10</th>\n",
       "      <th>NO</th>\n",
       "      <th>NO2</th>\n",
       "      <th>NOx</th>\n",
       "      <th>NH3</th>\n",
       "      <th>CO</th>\n",
       "      <th>SO2</th>\n",
       "      <th>O3</th>\n",
       "      <th>Benzene</th>\n",
       "      <th>Toluene</th>\n",
       "      <th>Xylene</th>\n",
       "      <th>AQI</th>\n",
       "      <th>AQI_Bucket</th>\n",
       "    </tr>\n",
       "  </thead>\n",
       "  <tbody>\n",
       "    <tr>\n",
       "      <th>0</th>\n",
       "      <td>AP001</td>\n",
       "      <td>2017</td>\n",
       "      <td>11</td>\n",
       "      <td>24</td>\n",
       "      <td>2017-11-24</td>\n",
       "      <td>71.36</td>\n",
       "      <td>115.75</td>\n",
       "      <td>1.75</td>\n",
       "      <td>20.65</td>\n",
       "      <td>12.40</td>\n",
       "      <td>12.19</td>\n",
       "      <td>0.10</td>\n",
       "      <td>10.76</td>\n",
       "      <td>109.26</td>\n",
       "      <td>0.17</td>\n",
       "      <td>5.92</td>\n",
       "      <td>0.10</td>\n",
       "      <td>272.27182</td>\n",
       "      <td>NaN</td>\n",
       "    </tr>\n",
       "    <tr>\n",
       "      <th>1</th>\n",
       "      <td>AP001</td>\n",
       "      <td>2017</td>\n",
       "      <td>11</td>\n",
       "      <td>25</td>\n",
       "      <td>2017-11-25</td>\n",
       "      <td>81.40</td>\n",
       "      <td>124.50</td>\n",
       "      <td>1.44</td>\n",
       "      <td>20.50</td>\n",
       "      <td>12.08</td>\n",
       "      <td>10.72</td>\n",
       "      <td>0.12</td>\n",
       "      <td>15.24</td>\n",
       "      <td>127.09</td>\n",
       "      <td>0.20</td>\n",
       "      <td>6.50</td>\n",
       "      <td>0.06</td>\n",
       "      <td>184.00000</td>\n",
       "      <td>Moderate</td>\n",
       "    </tr>\n",
       "    <tr>\n",
       "      <th>2</th>\n",
       "      <td>AP001</td>\n",
       "      <td>2017</td>\n",
       "      <td>11</td>\n",
       "      <td>26</td>\n",
       "      <td>2017-11-26</td>\n",
       "      <td>78.32</td>\n",
       "      <td>129.06</td>\n",
       "      <td>1.26</td>\n",
       "      <td>26.00</td>\n",
       "      <td>14.85</td>\n",
       "      <td>10.28</td>\n",
       "      <td>0.14</td>\n",
       "      <td>26.96</td>\n",
       "      <td>117.44</td>\n",
       "      <td>0.22</td>\n",
       "      <td>7.95</td>\n",
       "      <td>0.08</td>\n",
       "      <td>197.00000</td>\n",
       "      <td>Moderate</td>\n",
       "    </tr>\n",
       "    <tr>\n",
       "      <th>3</th>\n",
       "      <td>AP001</td>\n",
       "      <td>2017</td>\n",
       "      <td>11</td>\n",
       "      <td>27</td>\n",
       "      <td>2017-11-27</td>\n",
       "      <td>88.76</td>\n",
       "      <td>135.32</td>\n",
       "      <td>6.60</td>\n",
       "      <td>30.85</td>\n",
       "      <td>21.77</td>\n",
       "      <td>12.91</td>\n",
       "      <td>0.11</td>\n",
       "      <td>33.59</td>\n",
       "      <td>111.81</td>\n",
       "      <td>0.29</td>\n",
       "      <td>7.63</td>\n",
       "      <td>0.12</td>\n",
       "      <td>198.00000</td>\n",
       "      <td>Moderate</td>\n",
       "    </tr>\n",
       "    <tr>\n",
       "      <th>4</th>\n",
       "      <td>AP001</td>\n",
       "      <td>2017</td>\n",
       "      <td>11</td>\n",
       "      <td>28</td>\n",
       "      <td>2017-11-28</td>\n",
       "      <td>64.18</td>\n",
       "      <td>104.09</td>\n",
       "      <td>2.56</td>\n",
       "      <td>28.07</td>\n",
       "      <td>17.01</td>\n",
       "      <td>11.42</td>\n",
       "      <td>0.09</td>\n",
       "      <td>19.00</td>\n",
       "      <td>138.18</td>\n",
       "      <td>0.17</td>\n",
       "      <td>5.02</td>\n",
       "      <td>0.07</td>\n",
       "      <td>188.00000</td>\n",
       "      <td>Moderate</td>\n",
       "    </tr>\n",
       "    <tr>\n",
       "      <th>...</th>\n",
       "      <td>...</td>\n",
       "      <td>...</td>\n",
       "      <td>...</td>\n",
       "      <td>...</td>\n",
       "      <td>...</td>\n",
       "      <td>...</td>\n",
       "      <td>...</td>\n",
       "      <td>...</td>\n",
       "      <td>...</td>\n",
       "      <td>...</td>\n",
       "      <td>...</td>\n",
       "      <td>...</td>\n",
       "      <td>...</td>\n",
       "      <td>...</td>\n",
       "      <td>...</td>\n",
       "      <td>...</td>\n",
       "      <td>...</td>\n",
       "      <td>...</td>\n",
       "      <td>...</td>\n",
       "    </tr>\n",
       "    <tr>\n",
       "      <th>99716</th>\n",
       "      <td>WB013</td>\n",
       "      <td>2020</td>\n",
       "      <td>4</td>\n",
       "      <td>27</td>\n",
       "      <td>2020-04-27</td>\n",
       "      <td>11.51</td>\n",
       "      <td>31.71</td>\n",
       "      <td>1.73</td>\n",
       "      <td>10.21</td>\n",
       "      <td>11.93</td>\n",
       "      <td>21.52</td>\n",
       "      <td>0.54</td>\n",
       "      <td>6.92</td>\n",
       "      <td>28.90</td>\n",
       "      <td>1.33</td>\n",
       "      <td>8.96</td>\n",
       "      <td>NaN</td>\n",
       "      <td>38.00000</td>\n",
       "      <td>Good</td>\n",
       "    </tr>\n",
       "    <tr>\n",
       "      <th>99717</th>\n",
       "      <td>WB013</td>\n",
       "      <td>2020</td>\n",
       "      <td>4</td>\n",
       "      <td>28</td>\n",
       "      <td>2020-04-28</td>\n",
       "      <td>9.38</td>\n",
       "      <td>33.70</td>\n",
       "      <td>1.77</td>\n",
       "      <td>12.39</td>\n",
       "      <td>14.15</td>\n",
       "      <td>22.44</td>\n",
       "      <td>0.64</td>\n",
       "      <td>6.09</td>\n",
       "      <td>26.34</td>\n",
       "      <td>1.35</td>\n",
       "      <td>9.47</td>\n",
       "      <td>NaN</td>\n",
       "      <td>39.00000</td>\n",
       "      <td>Good</td>\n",
       "    </tr>\n",
       "    <tr>\n",
       "      <th>99718</th>\n",
       "      <td>WB013</td>\n",
       "      <td>2020</td>\n",
       "      <td>4</td>\n",
       "      <td>29</td>\n",
       "      <td>2020-04-29</td>\n",
       "      <td>16.86</td>\n",
       "      <td>32.17</td>\n",
       "      <td>2.00</td>\n",
       "      <td>14.26</td>\n",
       "      <td>16.27</td>\n",
       "      <td>24.19</td>\n",
       "      <td>0.57</td>\n",
       "      <td>7.27</td>\n",
       "      <td>29.62</td>\n",
       "      <td>1.66</td>\n",
       "      <td>10.45</td>\n",
       "      <td>NaN</td>\n",
       "      <td>44.00000</td>\n",
       "      <td>Good</td>\n",
       "    </tr>\n",
       "    <tr>\n",
       "      <th>99719</th>\n",
       "      <td>WB013</td>\n",
       "      <td>2020</td>\n",
       "      <td>4</td>\n",
       "      <td>30</td>\n",
       "      <td>2020-04-30</td>\n",
       "      <td>15.17</td>\n",
       "      <td>32.10</td>\n",
       "      <td>2.02</td>\n",
       "      <td>12.40</td>\n",
       "      <td>14.41</td>\n",
       "      <td>25.58</td>\n",
       "      <td>0.61</td>\n",
       "      <td>11.53</td>\n",
       "      <td>33.93</td>\n",
       "      <td>0.96</td>\n",
       "      <td>8.92</td>\n",
       "      <td>NaN</td>\n",
       "      <td>46.00000</td>\n",
       "      <td>Good</td>\n",
       "    </tr>\n",
       "    <tr>\n",
       "      <th>99720</th>\n",
       "      <td>WB013</td>\n",
       "      <td>2020</td>\n",
       "      <td>5</td>\n",
       "      <td>1</td>\n",
       "      <td>2020-05-01</td>\n",
       "      <td>17.05</td>\n",
       "      <td>29.15</td>\n",
       "      <td>1.70</td>\n",
       "      <td>10.54</td>\n",
       "      <td>12.22</td>\n",
       "      <td>24.21</td>\n",
       "      <td>0.65</td>\n",
       "      <td>6.51</td>\n",
       "      <td>23.48</td>\n",
       "      <td>0.77</td>\n",
       "      <td>7.91</td>\n",
       "      <td>NaN</td>\n",
       "      <td>57.00000</td>\n",
       "      <td>Satisfactory</td>\n",
       "    </tr>\n",
       "  </tbody>\n",
       "</table>\n",
       "<p>99721 rows × 19 columns</p>\n",
       "</div>"
      ],
      "text/plain": [
       "      StationId  Year  Month  Date1       Date  PM2.5    PM10    NO    NO2  \\\n",
       "0         AP001  2017     11     24 2017-11-24  71.36  115.75  1.75  20.65   \n",
       "1         AP001  2017     11     25 2017-11-25  81.40  124.50  1.44  20.50   \n",
       "2         AP001  2017     11     26 2017-11-26  78.32  129.06  1.26  26.00   \n",
       "3         AP001  2017     11     27 2017-11-27  88.76  135.32  6.60  30.85   \n",
       "4         AP001  2017     11     28 2017-11-28  64.18  104.09  2.56  28.07   \n",
       "...         ...   ...    ...    ...        ...    ...     ...   ...    ...   \n",
       "99716     WB013  2020      4     27 2020-04-27  11.51   31.71  1.73  10.21   \n",
       "99717     WB013  2020      4     28 2020-04-28   9.38   33.70  1.77  12.39   \n",
       "99718     WB013  2020      4     29 2020-04-29  16.86   32.17  2.00  14.26   \n",
       "99719     WB013  2020      4     30 2020-04-30  15.17   32.10  2.02  12.40   \n",
       "99720     WB013  2020      5      1 2020-05-01  17.05   29.15  1.70  10.54   \n",
       "\n",
       "         NOx    NH3    CO    SO2      O3  Benzene  Toluene  Xylene        AQI  \\\n",
       "0      12.40  12.19  0.10  10.76  109.26     0.17     5.92    0.10  272.27182   \n",
       "1      12.08  10.72  0.12  15.24  127.09     0.20     6.50    0.06  184.00000   \n",
       "2      14.85  10.28  0.14  26.96  117.44     0.22     7.95    0.08  197.00000   \n",
       "3      21.77  12.91  0.11  33.59  111.81     0.29     7.63    0.12  198.00000   \n",
       "4      17.01  11.42  0.09  19.00  138.18     0.17     5.02    0.07  188.00000   \n",
       "...      ...    ...   ...    ...     ...      ...      ...     ...        ...   \n",
       "99716  11.93  21.52  0.54   6.92   28.90     1.33     8.96     NaN   38.00000   \n",
       "99717  14.15  22.44  0.64   6.09   26.34     1.35     9.47     NaN   39.00000   \n",
       "99718  16.27  24.19  0.57   7.27   29.62     1.66    10.45     NaN   44.00000   \n",
       "99719  14.41  25.58  0.61  11.53   33.93     0.96     8.92     NaN   46.00000   \n",
       "99720  12.22  24.21  0.65   6.51   23.48     0.77     7.91     NaN   57.00000   \n",
       "\n",
       "         AQI_Bucket  \n",
       "0               NaN  \n",
       "1          Moderate  \n",
       "2          Moderate  \n",
       "3          Moderate  \n",
       "4          Moderate  \n",
       "...             ...  \n",
       "99716          Good  \n",
       "99717          Good  \n",
       "99718          Good  \n",
       "99719          Good  \n",
       "99720  Satisfactory  \n",
       "\n",
       "[99721 rows x 19 columns]"
      ]
     },
     "execution_count": 21,
     "metadata": {},
     "output_type": "execute_result"
    }
   ],
   "source": [
    "city_day_ahm"
   ]
  },
  {
   "cell_type": "code",
   "execution_count": 22,
   "metadata": {},
   "outputs": [
    {
     "data": {
      "text/plain": [
       "StationId         0\n",
       "Year              0\n",
       "Month             0\n",
       "Date1             0\n",
       "Date              0\n",
       "PM2.5         20737\n",
       "PM10          41021\n",
       "NO            16277\n",
       "NO2           15764\n",
       "NOx           14915\n",
       "NH3           45811\n",
       "CO            12491\n",
       "SO2           23977\n",
       "O3            24508\n",
       "Benzene       29670\n",
       "Toluene       36265\n",
       "Xylene        79749\n",
       "AQI               0\n",
       "AQI_Bucket    20128\n",
       "dtype: int64"
      ]
     },
     "execution_count": 22,
     "metadata": {},
     "output_type": "execute_result"
    }
   ],
   "source": [
    "city_day_ahm.isnull().sum()"
   ]
  },
  {
   "cell_type": "code",
   "execution_count": 23,
   "metadata": {},
   "outputs": [],
   "source": [
    "#function for categorizing AQI values\n",
    "def AQI_category(x):\n",
    "    y = 0\n",
    "    if x>=0 and x<=50:\n",
    "        y = 1\n",
    "    if x>50 and x<=100:\n",
    "        y = 2\n",
    "    if x>100 and x<=200:\n",
    "        y = 3\n",
    "    if x>200 and x<=300:\n",
    "        y = 4\n",
    "    if x>200 and x<=300:\n",
    "        y = 5\n",
    "    if x>300:\n",
    "        y = 6\n",
    "    return y"
   ]
  },
  {
   "cell_type": "code",
   "execution_count": 24,
   "metadata": {},
   "outputs": [],
   "source": [
    "AQI_val = city_day_ahm.AQI_Bucket.unique()"
   ]
  },
  {
   "cell_type": "code",
   "execution_count": 25,
   "metadata": {},
   "outputs": [],
   "source": [
    "AQI_val = AQI_val[1:]"
   ]
  },
  {
   "cell_type": "code",
   "execution_count": 26,
   "metadata": {},
   "outputs": [],
   "source": [
    "length = len(city_day_ahm[city_day_ahm[\"Year\"]!=2020])"
   ]
  },
  {
   "cell_type": "code",
   "execution_count": 29,
   "metadata": {},
   "outputs": [],
   "source": [
    "X_train = []\n",
    "Y_train = []\n",
    "for i in range(80000):\n",
    "    X_train.append(city_day_ahm[\"AQI\"][i:i+7].values)\n",
    "    Y_train.append( city_day_ahm[\"AQI\"][i+7:i+7+1].values )\n",
    "#converting to dataframe\n",
    "X_train_df = pd.DataFrame(X_train)\n",
    "Y_train_df = pd.DataFrame(Y_train)\n",
    "X_train = X_train_df.values\n",
    "Y_train = Y_train_df.values"
   ]
  },
  {
   "cell_type": "code",
   "execution_count": 30,
   "metadata": {},
   "outputs": [
    {
     "data": {
      "text/html": [
       "<div>\n",
       "<style scoped>\n",
       "    .dataframe tbody tr th:only-of-type {\n",
       "        vertical-align: middle;\n",
       "    }\n",
       "\n",
       "    .dataframe tbody tr th {\n",
       "        vertical-align: top;\n",
       "    }\n",
       "\n",
       "    .dataframe thead th {\n",
       "        text-align: right;\n",
       "    }\n",
       "</style>\n",
       "<table border=\"1\" class=\"dataframe\">\n",
       "  <thead>\n",
       "    <tr style=\"text-align: right;\">\n",
       "      <th></th>\n",
       "      <th>0</th>\n",
       "      <th>1</th>\n",
       "      <th>2</th>\n",
       "      <th>3</th>\n",
       "      <th>4</th>\n",
       "      <th>5</th>\n",
       "      <th>6</th>\n",
       "    </tr>\n",
       "  </thead>\n",
       "  <tbody>\n",
       "    <tr>\n",
       "      <th>0</th>\n",
       "      <td>272.27182</td>\n",
       "      <td>184.0000</td>\n",
       "      <td>197.0000</td>\n",
       "      <td>198.0000</td>\n",
       "      <td>188.0000</td>\n",
       "      <td>173.0000</td>\n",
       "      <td>165.0000</td>\n",
       "    </tr>\n",
       "    <tr>\n",
       "      <th>1</th>\n",
       "      <td>184.00000</td>\n",
       "      <td>197.0000</td>\n",
       "      <td>198.0000</td>\n",
       "      <td>188.0000</td>\n",
       "      <td>173.0000</td>\n",
       "      <td>165.0000</td>\n",
       "      <td>191.0000</td>\n",
       "    </tr>\n",
       "    <tr>\n",
       "      <th>2</th>\n",
       "      <td>197.00000</td>\n",
       "      <td>198.0000</td>\n",
       "      <td>188.0000</td>\n",
       "      <td>173.0000</td>\n",
       "      <td>165.0000</td>\n",
       "      <td>191.0000</td>\n",
       "      <td>191.0000</td>\n",
       "    </tr>\n",
       "    <tr>\n",
       "      <th>3</th>\n",
       "      <td>198.00000</td>\n",
       "      <td>188.0000</td>\n",
       "      <td>173.0000</td>\n",
       "      <td>165.0000</td>\n",
       "      <td>191.0000</td>\n",
       "      <td>191.0000</td>\n",
       "      <td>227.0000</td>\n",
       "    </tr>\n",
       "    <tr>\n",
       "      <th>4</th>\n",
       "      <td>188.00000</td>\n",
       "      <td>173.0000</td>\n",
       "      <td>165.0000</td>\n",
       "      <td>191.0000</td>\n",
       "      <td>191.0000</td>\n",
       "      <td>227.0000</td>\n",
       "      <td>168.0000</td>\n",
       "    </tr>\n",
       "    <tr>\n",
       "      <th>...</th>\n",
       "      <td>...</td>\n",
       "      <td>...</td>\n",
       "      <td>...</td>\n",
       "      <td>...</td>\n",
       "      <td>...</td>\n",
       "      <td>...</td>\n",
       "      <td>...</td>\n",
       "    </tr>\n",
       "    <tr>\n",
       "      <th>79995</th>\n",
       "      <td>106.86170</td>\n",
       "      <td>106.8617</td>\n",
       "      <td>62.0000</td>\n",
       "      <td>52.0000</td>\n",
       "      <td>52.0000</td>\n",
       "      <td>34.0000</td>\n",
       "      <td>106.8617</td>\n",
       "    </tr>\n",
       "    <tr>\n",
       "      <th>79996</th>\n",
       "      <td>106.86170</td>\n",
       "      <td>62.0000</td>\n",
       "      <td>52.0000</td>\n",
       "      <td>52.0000</td>\n",
       "      <td>34.0000</td>\n",
       "      <td>106.8617</td>\n",
       "      <td>66.0000</td>\n",
       "    </tr>\n",
       "    <tr>\n",
       "      <th>79997</th>\n",
       "      <td>62.00000</td>\n",
       "      <td>52.0000</td>\n",
       "      <td>52.0000</td>\n",
       "      <td>34.0000</td>\n",
       "      <td>106.8617</td>\n",
       "      <td>66.0000</td>\n",
       "      <td>82.0000</td>\n",
       "    </tr>\n",
       "    <tr>\n",
       "      <th>79998</th>\n",
       "      <td>52.00000</td>\n",
       "      <td>52.0000</td>\n",
       "      <td>34.0000</td>\n",
       "      <td>106.8617</td>\n",
       "      <td>66.0000</td>\n",
       "      <td>82.0000</td>\n",
       "      <td>78.0000</td>\n",
       "    </tr>\n",
       "    <tr>\n",
       "      <th>79999</th>\n",
       "      <td>52.00000</td>\n",
       "      <td>34.0000</td>\n",
       "      <td>106.8617</td>\n",
       "      <td>66.0000</td>\n",
       "      <td>82.0000</td>\n",
       "      <td>78.0000</td>\n",
       "      <td>86.0000</td>\n",
       "    </tr>\n",
       "  </tbody>\n",
       "</table>\n",
       "<p>80000 rows × 7 columns</p>\n",
       "</div>"
      ],
      "text/plain": [
       "               0         1         2         3         4         5         6\n",
       "0      272.27182  184.0000  197.0000  198.0000  188.0000  173.0000  165.0000\n",
       "1      184.00000  197.0000  198.0000  188.0000  173.0000  165.0000  191.0000\n",
       "2      197.00000  198.0000  188.0000  173.0000  165.0000  191.0000  191.0000\n",
       "3      198.00000  188.0000  173.0000  165.0000  191.0000  191.0000  227.0000\n",
       "4      188.00000  173.0000  165.0000  191.0000  191.0000  227.0000  168.0000\n",
       "...          ...       ...       ...       ...       ...       ...       ...\n",
       "79995  106.86170  106.8617   62.0000   52.0000   52.0000   34.0000  106.8617\n",
       "79996  106.86170   62.0000   52.0000   52.0000   34.0000  106.8617   66.0000\n",
       "79997   62.00000   52.0000   52.0000   34.0000  106.8617   66.0000   82.0000\n",
       "79998   52.00000   52.0000   34.0000  106.8617   66.0000   82.0000   78.0000\n",
       "79999   52.00000   34.0000  106.8617   66.0000   82.0000   78.0000   86.0000\n",
       "\n",
       "[80000 rows x 7 columns]"
      ]
     },
     "execution_count": 30,
     "metadata": {},
     "output_type": "execute_result"
    }
   ],
   "source": [
    "X_train_df"
   ]
  },
  {
   "cell_type": "code",
   "execution_count": 31,
   "metadata": {},
   "outputs": [],
   "source": [
    "X_test = city_day_ahm.AQI[80000:80007].values.reshape((1,7))"
   ]
  },
  {
   "cell_type": "code",
   "execution_count": 32,
   "metadata": {},
   "outputs": [
    {
     "data": {
      "text/plain": [
       "array([[ 34.        , 106.86170035,  66.        ,  82.        ,\n",
       "         78.        ,  86.        , 100.        ]])"
      ]
     },
     "execution_count": 32,
     "metadata": {},
     "output_type": "execute_result"
    }
   ],
   "source": [
    "X_test"
   ]
  },
  {
   "cell_type": "code",
   "execution_count": 31,
   "metadata": {},
   "outputs": [
    {
     "data": {
      "text/plain": [
       "(104.0, 94.0)"
      ]
     },
     "execution_count": 31,
     "metadata": {},
     "output_type": "execute_result"
    }
   ],
   "source": [
    "# city_day_ahm[\"AQI\"][20006] , city_day_ahm[\"AQI\"][20007]"
   ]
  },
  {
   "cell_type": "code",
   "execution_count": 33,
   "metadata": {},
   "outputs": [
    {
     "data": {
      "text/plain": [
       "array([[ 34.        , 106.86170035,  66.        ,  82.        ,\n",
       "         78.        ,  86.        , 100.        ]])"
      ]
     },
     "execution_count": 33,
     "metadata": {},
     "output_type": "execute_result"
    }
   ],
   "source": [
    "X_test"
   ]
  },
  {
   "cell_type": "code",
   "execution_count": 34,
   "metadata": {},
   "outputs": [],
   "source": [
    "Y_test = city_day_ahm.AQI[80007].reshape((1,1))"
   ]
  },
  {
   "cell_type": "code",
   "execution_count": 35,
   "metadata": {},
   "outputs": [
    {
     "data": {
      "text/plain": [
       "((80000, 7), (80000, 1), (1, 7), (1, 1))"
      ]
     },
     "execution_count": 35,
     "metadata": {},
     "output_type": "execute_result"
    }
   ],
   "source": [
    "X_train.shape,Y_train.shape,X_test.shape,Y_test.shape"
   ]
  },
  {
   "cell_type": "code",
   "execution_count": 35,
   "metadata": {},
   "outputs": [],
   "source": [
    "# X_test = []\n",
    "# Y_test = []\n",
    "# for i in range(30):\n",
    "#     X_test.append(city_day_ahm[\"AQI\"][24000+i:24000+i+60].values)\n",
    "#     Y_test.append( city_day_ahm[\"AQI\"][24000+i+60:24000+i+60+1].values)\n",
    "# X_test_df = pd.DataFrame(X_test)\n",
    "# Y_test_df = pd.DataFrame(Y_test)\n",
    "# X_test = X_test_df.values\n",
    "# Y_test = Y_test_df.values"
   ]
  },
  {
   "cell_type": "code",
   "execution_count": 36,
   "metadata": {},
   "outputs": [
    {
     "data": {
      "text/plain": [
       "LinearRegression(copy_X=True, fit_intercept=True, n_jobs=None, normalize=False)"
      ]
     },
     "execution_count": 36,
     "metadata": {},
     "output_type": "execute_result"
    }
   ],
   "source": [
    "# from sklearn.linear_model import LinearRegression\n",
    "# dtregressor=LinearRegression()\n",
    "# dtregressor.fit(X_train,Y_train)"
   ]
  },
  {
   "cell_type": "code",
   "execution_count": 36,
   "metadata": {},
   "outputs": [
    {
     "data": {
      "text/plain": [
       "RandomForestRegressor(bootstrap=True, ccp_alpha=0.0, criterion='mse',\n",
       "                      max_depth=None, max_features='auto', max_leaf_nodes=None,\n",
       "                      max_samples=None, min_impurity_decrease=0.0,\n",
       "                      min_impurity_split=None, min_samples_leaf=1,\n",
       "                      min_samples_split=2, min_weight_fraction_leaf=0.0,\n",
       "                      n_estimators=100, n_jobs=None, oob_score=False,\n",
       "                      random_state=None, verbose=0, warm_start=False)"
      ]
     },
     "execution_count": 36,
     "metadata": {},
     "output_type": "execute_result"
    }
   ],
   "source": [
    "# # from sklearn.tree import DecisionTreeRegressor\n",
    "from sklearn.ensemble import RandomForestRegressor\n",
    "# dtregressor=DecisionTreeRegressor()\n",
    "dtregressor=  RandomForestRegressor()\n",
    "dtregressor.fit(X_train,Y_train)"
   ]
  },
  {
   "cell_type": "code",
   "execution_count": 37,
   "metadata": {},
   "outputs": [
    {
     "data": {
      "text/plain": [
       "0.9656485589403642"
      ]
     },
     "execution_count": 37,
     "metadata": {},
     "output_type": "execute_result"
    }
   ],
   "source": [
    "dtregressor.score(X_train ,Y_train)"
   ]
  },
  {
   "cell_type": "code",
   "execution_count": 38,
   "metadata": {},
   "outputs": [],
   "source": [
    "y_pred = dtregressor.predict(X_test)"
   ]
  },
  {
   "cell_type": "code",
   "execution_count": 39,
   "metadata": {},
   "outputs": [
    {
     "data": {
      "text/plain": [
       "array([91.33304602])"
      ]
     },
     "execution_count": 39,
     "metadata": {},
     "output_type": "execute_result"
    }
   ],
   "source": [
    "y_pred"
   ]
  },
  {
   "cell_type": "code",
   "execution_count": 40,
   "metadata": {},
   "outputs": [
    {
     "data": {
      "text/plain": [
       "(array([91.33304602]), 103.0)"
      ]
     },
     "execution_count": 40,
     "metadata": {},
     "output_type": "execute_result"
    }
   ],
   "source": [
    "y_pred,city_day_ahm.AQI[80007]"
   ]
  },
  {
   "cell_type": "code",
   "execution_count": 44,
   "metadata": {
    "scrolled": true
   },
   "outputs": [
    {
     "name": "stdout",
     "output_type": "stream",
     "text": [
      "LinearRegression(copy_X=True, fit_intercept=True, n_jobs=None, normalize=False)\n",
      "train acc\n",
      "0.501657448823833\n",
      "y_pred\n",
      "testing acc\n",
      "nan\n",
      "DecisionTreeRegressor(ccp_alpha=0.0, criterion='mse', max_depth=None,\n",
      "                      max_features=None, max_leaf_nodes=None,\n",
      "                      min_impurity_decrease=0.0, min_impurity_split=None,\n",
      "                      min_samples_leaf=1, min_samples_split=2,\n",
      "                      min_weight_fraction_leaf=0.0, presort='deprecated',\n",
      "                      random_state=0, splitter='best')\n",
      "train acc\n",
      "0.976275153345473\n",
      "y_pred\n",
      "testing acc\n",
      "nan\n",
      "RandomForestRegressor(bootstrap=True, ccp_alpha=0.0, criterion='mse',\n",
      "                      max_depth=None, max_features='auto', max_leaf_nodes=None,\n",
      "                      max_samples=None, min_impurity_decrease=0.0,\n",
      "                      min_impurity_split=None, min_samples_leaf=1,\n",
      "                      min_samples_split=2, min_weight_fraction_leaf=0.0,\n",
      "                      n_estimators=40, n_jobs=None, oob_score=False,\n",
      "                      random_state=0, verbose=0, warm_start=False)\n",
      "train acc\n",
      "0.8937091431340005\n",
      "y_pred\n",
      "testing acc\n",
      "nan\n",
      "GradientBoostingRegressor(alpha=0.9, ccp_alpha=0.0, criterion='mse', init=None,\n",
      "                          learning_rate=1, loss='ls', max_depth=1,\n",
      "                          max_features=None, max_leaf_nodes=None,\n",
      "                          min_impurity_decrease=0.0, min_impurity_split=None,\n",
      "                          min_samples_leaf=1, min_samples_split=2,\n",
      "                          min_weight_fraction_leaf=0.0, n_estimators=1,\n",
      "                          n_iter_no_change=None, presort='deprecated',\n",
      "                          random_state=None, subsample=1.0, tol=0.0001,\n",
      "                          validation_fraction=0.1, verbose=0, warm_start=False)\n",
      "train acc\n",
      "0.33107951643167477\n",
      "y_pred\n",
      "testing acc\n",
      "nan\n"
     ]
    }
   ],
   "source": [
    "main(X_train,X_test,Y_train,Y_test)"
   ]
  },
  {
   "cell_type": "code",
   "execution_count": 41,
   "metadata": {},
   "outputs": [
    {
     "data": {
      "text/plain": [
       "((80000, 7), (80000, 1), (1, 7), (1, 1))"
      ]
     },
     "execution_count": 41,
     "metadata": {},
     "output_type": "execute_result"
    }
   ],
   "source": [
    "X_train.shape,Y_train.shape,X_test.shape,Y_test.shape"
   ]
  },
  {
   "cell_type": "code",
   "execution_count": 42,
   "metadata": {},
   "outputs": [
    {
     "name": "stdout",
     "output_type": "stream",
     "text": [
      "[91.33304601698826, 97.32025045394448, 95.20468119153128, 92.14861700350761, 89.48, 97.52843741570206, 100.02318230563003, 96.79721967769295, 98.5937651322384, 100.31084554831706, 96.65721967769295, 99.78260846504932, 100.44031058678385, 100.03260846504932, 103.81687596317752, 103.1740411688249, 102.6660983884648, 96.0512495951885, 96.76093176035161, 98.49753026447681, 97.9, 98.05654545454544, 96.1237651322384, 96.97609838846479, 97.55445368470815, 96.95, 97.87159115281501, 97.84, 97.62, 97.09721967769296, 96.91721967769296, 96.74, 96.55721967769296, 96.71, 96.9, 96.99, 97.10721967769295, 97.22721967769296, 97.24721967769295, 97.23721967769296, 97.20721967769296, 97.05721967769296, 96.98721967769296, 96.86721967769296, 96.86721967769296, 96.87721967769295, 96.87721967769295, 97.02721967769295, 97.10721967769295, 97.24721967769295, 97.23721967769296, 97.20721967769296, 97.05721967769296, 96.98721967769296, 96.86721967769296, 96.86721967769296, 96.87721967769295, 96.87721967769295, 97.02721967769295, 97.10721967769295, 97.24721967769295, 97.23721967769296, 97.20721967769296, 97.05721967769296, 96.98721967769296, 96.86721967769296, 96.86721967769296, 96.87721967769295, 96.87721967769295, 97.02721967769295, 97.10721967769295, 97.24721967769295, 97.23721967769296, 97.20721967769296, 97.05721967769296, 96.98721967769296, 96.86721967769296, 96.86721967769296, 96.87721967769295, 96.87721967769295, 97.02721967769295, 97.10721967769295, 97.24721967769295, 97.23721967769296, 97.20721967769296, 97.05721967769296, 96.98721967769296, 96.86721967769296, 96.86721967769296, 96.87721967769295, 96.87721967769295, 97.02721967769295, 97.10721967769295, 97.24721967769295, 97.23721967769296, 97.20721967769296, 97.05721967769296, 96.98721967769296, 96.86721967769296, 96.86721967769296]\n"
     ]
    }
   ],
   "source": [
    "# Predicting next n days\n",
    "n = 100\n",
    "n_past = 7\n",
    "n_future = 1\n",
    "x_input = city_day_ahm[\"AQI\"][X_train.shape[0] : X_train.shape[0]+ 7].values \n",
    "x_input = x_input.reshape((1,7))              # reshape for applying model\n",
    "output=[]\n",
    "i=0\n",
    "while(i<100):\n",
    "    \n",
    "    \n",
    "    yhat = dtregressor.predict(x_input)      # yhat calulate\n",
    "    \n",
    "\n",
    "    \n",
    "    output.append(yhat[0])                 # append to output\n",
    "    \n",
    "    x_input = np.append(x_input,yhat[0])\n",
    "    \n",
    "\n",
    "    x_input = x_input[1:]\n",
    "\n",
    "    x_input = x_input.reshape((1,7))\n",
    "    \n",
    "    \n",
    "    i = i+1\n",
    "print(output)"
   ]
  },
  {
   "cell_type": "code",
   "execution_count": 43,
   "metadata": {},
   "outputs": [],
   "source": [
    "output = np.array(output)\n",
    "\n",
    "a = city_day_ahm.AQI[80007:80107].values\n",
    "a = pd.DataFrame(a,columns=[\"y_actual\"])\n",
    "a[\"y_pred\"] = output\n",
    "a.to_csv(\"abc4.csv\")"
   ]
  }
 ],
 "metadata": {
  "kernelspec": {
   "display_name": "Python 3",
   "language": "python",
   "name": "python3"
  },
  "language_info": {
   "codemirror_mode": {
    "name": "ipython",
    "version": 3
   },
   "file_extension": ".py",
   "mimetype": "text/x-python",
   "name": "python",
   "nbconvert_exporter": "python",
   "pygments_lexer": "ipython3",
   "version": "3.7.6"
  }
 },
 "nbformat": 4,
 "nbformat_minor": 4
}
